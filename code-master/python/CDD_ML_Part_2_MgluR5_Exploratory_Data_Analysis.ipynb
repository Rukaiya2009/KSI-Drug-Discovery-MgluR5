{
  "cells": [
    {
      "cell_type": "markdown",
      "metadata": {
        "colab_type": "text",
        "id": "l0Y7_lgN4jzM"
      },
      "source": [
        "# **Bioinformatics Project - Computational Drug Discovery [Part 2] Exploratory Data Analysis**\n",
        "\n",
        "Chanin Nantasenamat\n",
        "\n",
        "[*'Data Professor' YouTube channel*](http://youtube.com/dataprofessor)\n",
        "\n",
        "In this Jupyter notebook, we will be building a real-life **data science project** that you can include in your **data science portfolio**. Particularly, we will be building a machine learning model using the ChEMBL bioactivity data.\n",
        "\n",
        "In **Part 2**, we will be performing Descriptor Calculation and Exploratory Data Analysis.\n",
        "\n",
        "---"
      ]
    },
    {
      "cell_type": "markdown",
      "metadata": {
        "colab_type": "text",
        "id": "o-4IOizard4P"
      },
      "source": [
        "## **Install conda and rdkit**"
      ]
    },
    {
      "cell_type": "code",
      "execution_count": 1,
      "metadata": {
        "colab": {
          "base_uri": "https://localhost:8080/",
          "height": 1000
        },
        "colab_type": "code",
        "id": "H0mjQ2PcrSe5",
        "outputId": "10fb9322-6afb-4873-8c41-0e6bfbe9d0b2"
      },
      "outputs": [
        {
          "name": "stdout",
          "output_type": "stream",
          "text": [
            "--2024-04-24 14:54:47--  https://repo.anaconda.com/miniconda/Miniconda3-py37_4.8.2-Linux-x86_64.sh\n",
            "Resolving repo.anaconda.com (repo.anaconda.com)... 104.16.191.158, 104.16.32.241, 2606:4700::6810:bf9e, ...\n",
            "Connecting to repo.anaconda.com (repo.anaconda.com)|104.16.191.158|:443... connected.\n",
            "HTTP request sent, awaiting response... 200 OK\n",
            "Length: 85055499 (81M) [application/x-sh]\n",
            "Saving to: ‘Miniconda3-py37_4.8.2-Linux-x86_64.sh’\n",
            "\n",
            "Miniconda3-py37_4.8 100%[===================>]  81.12M  33.9MB/s    in 2.4s    \n",
            "\n",
            "2024-04-24 14:54:49 (33.9 MB/s) - ‘Miniconda3-py37_4.8.2-Linux-x86_64.sh’ saved [85055499/85055499]\n",
            "\n",
            "PREFIX=/usr/local\n",
            "./Miniconda3-py37_4.8.2-Linux-x86_64.sh: line 392: /usr/local/conda.exe: Permission denied\n",
            "chmod: cannot access '/usr/local/conda.exe': No such file or directory\n",
            "Unpacking payload ...\n",
            "./Miniconda3-py37_4.8.2-Linux-x86_64.sh: line 404: /usr/local/conda.exe: No such file or directory\n",
            "./Miniconda3-py37_4.8.2-Linux-x86_64.sh: line 406: /usr/local/conda.exe: No such file or directory\n"
          ]
        },
        {
          "name": "stdout",
          "output_type": "stream",
          "text": [
            "Retrieving notices: ...working... done\n",
            "Channels:\n",
            " - rdkit\n",
            " - defaults\n",
            "Platform: linux-64\n",
            "Collecting package metadata (repodata.json): done\n",
            "Solving environment: | \u001b[33m\u001b[1mwarning  libmamba\u001b[m Added empty dependency for problem type SOLVER_RULE_UPDATE\n",
            "failed\n",
            "\n",
            "LibMambaUnsatisfiableError: Encountered problems while solving:\n",
            "  - nothing provides numpy 1.8* needed by rdkit-2014.03.1-np18py27_3\n",
            "\n",
            "Could not solve for environment specs\n",
            "The following packages are incompatible\n",
            "├─ \u001b[32mpin-1\u001b[0m is installable and it requires\n",
            "│  └─ \u001b[32mpython 3.12.* \u001b[0m, which can be installed;\n",
            "└─ \u001b[31mrdkit\u001b[0m is not installable because there are no viable options\n",
            "   ├─ \u001b[31mrdkit 2014.03.1\u001b[0m would require\n",
            "   │  └─ \u001b[31mnumpy 1.8* \u001b[0m, which does not exist (perhaps a missing channel);\n",
            "   ├─ \u001b[31mrdkit 2014.09.1\u001b[0m would require\n",
            "   │  └─ \u001b[31mpython 2.6* \u001b[0m, which does not exist (perhaps a missing channel);\n",
            "   ├─ \u001b[31mrdkit [2014.09.1|2014.09.2|...|2018.09.3.0]\u001b[0m would require\n",
            "   │  └─ \u001b[31mpython [2.7* |>=2.7,<2.8.0a0 ]\u001b[0m, which conflicts with any installable versions previously reported;\n",
            "   ├─ \u001b[31mrdkit [2014.09.1|2014.09.2|...|2016.03.4]\u001b[0m would require\n",
            "   │  └─ \u001b[31mpython 3.4* \u001b[0m, which does not exist (perhaps a missing channel);\n",
            "   ├─ \u001b[31mrdkit [2015.09.2|2016.03.1|2016.03.2|2016.03.3|2016.03.4]\u001b[0m would require\n",
            "   │  └─ \u001b[31mnumpy 1.10.* \u001b[0m, which does not exist (perhaps a missing channel);\n",
            "   ├─ \u001b[31mrdkit [2015.09.2|2016.03.1|...|2018.03.4.0]\u001b[0m would require\n",
            "   │  └─ \u001b[31mpython [3.5* |>=3.5,<3.6.0a0 ]\u001b[0m, which conflicts with any installable versions previously reported;\n",
            "   ├─ \u001b[31mrdkit [2017.03.1|2017.03.2|...|2020.09.1.0]\u001b[0m would require\n",
            "   │  └─ \u001b[31mpython [3.6* |>=3.6,<3.7.0a0 ]\u001b[0m, which conflicts with any installable versions previously reported;\n",
            "   └─ \u001b[31mrdkit [2018.09.2.0|2018.09.3.0|...|2020.09.1.0]\u001b[0m would require\n",
            "      └─ \u001b[31mpython >=3.7,<3.8.0a0 \u001b[0m, which conflicts with any installable versions previously reported.\n",
            "\n",
            "Pins seem to be involved in the conflict. Currently pinned specs:\n",
            " - python 3.12.* (labeled as 'pin-1')\n",
            "\n",
            "\n"
          ]
        }
      ],
      "source": [
        "! wget https://repo.anaconda.com/miniconda/Miniconda3-py37_4.8.2-Linux-x86_64.sh\n",
        "! chmod +x Miniconda3-py37_4.8.2-Linux-x86_64.sh\n",
        "! bash ./Miniconda3-py37_4.8.2-Linux-x86_64.sh -b -f -p /usr/local\n",
        "! conda install -c rdkit rdkit -y\n",
        "import sys\n",
        "sys.path.append('/usr/local/lib/python3.7/site-packages/')"
      ]
    },
    {
      "cell_type": "markdown",
      "metadata": {
        "colab_type": "text",
        "id": "QmxXXFa4wTNG"
      },
      "source": [
        "## **Load bioactivity data**"
      ]
    },
    {
      "cell_type": "code",
      "execution_count": 1,
      "metadata": {
        "colab": {},
        "colab_type": "code",
        "id": "Fpu5C7HlwV9s"
      },
      "outputs": [],
      "source": [
        "import pandas as pd"
      ]
    },
    {
      "cell_type": "code",
      "execution_count": 3,
      "metadata": {
        "colab": {
          "base_uri": "https://localhost:8080/",
          "height": 419
        },
        "colab_type": "code",
        "id": "GCcE8J5XwjtB",
        "outputId": "40a10f00-3d5f-4835-fdf8-2cb5acd8683c"
      },
      "outputs": [
        {
          "data": {
            "text/html": [
              "<div>\n",
              "<style scoped>\n",
              "    .dataframe tbody tr th:only-of-type {\n",
              "        vertical-align: middle;\n",
              "    }\n",
              "\n",
              "    .dataframe tbody tr th {\n",
              "        vertical-align: top;\n",
              "    }\n",
              "\n",
              "    .dataframe thead th {\n",
              "        text-align: right;\n",
              "    }\n",
              "</style>\n",
              "<table border=\"1\" class=\"dataframe\">\n",
              "  <thead>\n",
              "    <tr style=\"text-align: right;\">\n",
              "      <th></th>\n",
              "      <th>molecule_chembl_id</th>\n",
              "      <th>canonical_smiles</th>\n",
              "      <th>standard_value</th>\n",
              "      <th>class</th>\n",
              "    </tr>\n",
              "  </thead>\n",
              "  <tbody>\n",
              "    <tr>\n",
              "      <th>0</th>\n",
              "      <td>CHEMBL66654</td>\n",
              "      <td>Cc1cccc(C#Cc2ccccc2)n1</td>\n",
              "      <td>36.0</td>\n",
              "      <td>active</td>\n",
              "    </tr>\n",
              "    <tr>\n",
              "      <th>1</th>\n",
              "      <td>CHEMBL88612</td>\n",
              "      <td>Cc1cccc(/C=C/c2ccccc2)n1</td>\n",
              "      <td>3000.0</td>\n",
              "      <td>intermediate</td>\n",
              "    </tr>\n",
              "    <tr>\n",
              "      <th>2</th>\n",
              "      <td>CHEMBL2112677</td>\n",
              "      <td>[3H]C([3H])([3H])OCc1cccc(C#Cc2cccc(C)n2)c1</td>\n",
              "      <td>10.0</td>\n",
              "      <td>active</td>\n",
              "    </tr>\n",
              "    <tr>\n",
              "      <th>3</th>\n",
              "      <td>CHEMBL39338</td>\n",
              "      <td>N[C@@H](C[C@H](CCCC(c1ccccc1)c1ccccc1)C(=O)O)C...</td>\n",
              "      <td>300000.0</td>\n",
              "      <td>inactive</td>\n",
              "    </tr>\n",
              "    <tr>\n",
              "      <th>4</th>\n",
              "      <td>CHEMBL40123</td>\n",
              "      <td>N[C@@H](C[C@H](CC(c1ccccc1)c1ccccc1)C(=O)O)C(=O)O</td>\n",
              "      <td>300000.0</td>\n",
              "      <td>inactive</td>\n",
              "    </tr>\n",
              "    <tr>\n",
              "      <th>...</th>\n",
              "      <td>...</td>\n",
              "      <td>...</td>\n",
              "      <td>...</td>\n",
              "      <td>...</td>\n",
              "    </tr>\n",
              "    <tr>\n",
              "      <th>1967</th>\n",
              "      <td>CHEMBL4591221</td>\n",
              "      <td>CC(C)(C)c1cc2n(n1)CCN(C(=O)c1ccc3ccccc3c1)C2</td>\n",
              "      <td>477.0</td>\n",
              "      <td>active</td>\n",
              "    </tr>\n",
              "    <tr>\n",
              "      <th>1968</th>\n",
              "      <td>CHEMBL4572894</td>\n",
              "      <td>O=C1N[C@H](c2cncc(C#Cc3ccccc3)c2)[C@@H](c2c(F)...</td>\n",
              "      <td>27.0</td>\n",
              "      <td>active</td>\n",
              "    </tr>\n",
              "    <tr>\n",
              "      <th>1969</th>\n",
              "      <td>CHEMBL1527295</td>\n",
              "      <td>CCOC(=O)c1cnc2c(OC)cccc2c1N1CCN(c2ccccc2F)CC1</td>\n",
              "      <td>30000.0</td>\n",
              "      <td>inactive</td>\n",
              "    </tr>\n",
              "    <tr>\n",
              "      <th>1970</th>\n",
              "      <td>CHEMBL4751065</td>\n",
              "      <td>Cl.N[C@]1(C(=O)O)[C@@H]2[C@@H](C(=O)O)[C@@H]2[...</td>\n",
              "      <td>12500.0</td>\n",
              "      <td>inactive</td>\n",
              "    </tr>\n",
              "    <tr>\n",
              "      <th>1971</th>\n",
              "      <td>CHEMBL4758183</td>\n",
              "      <td>O=C1CCSC[C@@H](C(=O)Nc2cc(Cl)cc(Br)c2)N1</td>\n",
              "      <td>10000.0</td>\n",
              "      <td>inactive</td>\n",
              "    </tr>\n",
              "  </tbody>\n",
              "</table>\n",
              "<p>1972 rows × 4 columns</p>\n",
              "</div>"
            ],
            "text/plain": [
              "     molecule_chembl_id                                   canonical_smiles  \\\n",
              "0           CHEMBL66654                             Cc1cccc(C#Cc2ccccc2)n1   \n",
              "1           CHEMBL88612                           Cc1cccc(/C=C/c2ccccc2)n1   \n",
              "2         CHEMBL2112677        [3H]C([3H])([3H])OCc1cccc(C#Cc2cccc(C)n2)c1   \n",
              "3           CHEMBL39338  N[C@@H](C[C@H](CCCC(c1ccccc1)c1ccccc1)C(=O)O)C...   \n",
              "4           CHEMBL40123  N[C@@H](C[C@H](CC(c1ccccc1)c1ccccc1)C(=O)O)C(=O)O   \n",
              "...                 ...                                                ...   \n",
              "1967      CHEMBL4591221       CC(C)(C)c1cc2n(n1)CCN(C(=O)c1ccc3ccccc3c1)C2   \n",
              "1968      CHEMBL4572894  O=C1N[C@H](c2cncc(C#Cc3ccccc3)c2)[C@@H](c2c(F)...   \n",
              "1969      CHEMBL1527295      CCOC(=O)c1cnc2c(OC)cccc2c1N1CCN(c2ccccc2F)CC1   \n",
              "1970      CHEMBL4751065  Cl.N[C@]1(C(=O)O)[C@@H]2[C@@H](C(=O)O)[C@@H]2[...   \n",
              "1971      CHEMBL4758183           O=C1CCSC[C@@H](C(=O)Nc2cc(Cl)cc(Br)c2)N1   \n",
              "\n",
              "      standard_value         class  \n",
              "0               36.0        active  \n",
              "1             3000.0  intermediate  \n",
              "2               10.0        active  \n",
              "3           300000.0      inactive  \n",
              "4           300000.0      inactive  \n",
              "...              ...           ...  \n",
              "1967           477.0        active  \n",
              "1968            27.0        active  \n",
              "1969         30000.0      inactive  \n",
              "1970         12500.0      inactive  \n",
              "1971         10000.0      inactive  \n",
              "\n",
              "[1972 rows x 4 columns]"
            ]
          },
          "execution_count": 3,
          "metadata": {},
          "output_type": "execute_result"
        }
      ],
      "source": [
        "df = pd.read_csv('MgluR5_03_bioactivity_data_curated.csv')\n",
        "df"
      ]
    },
    {
      "cell_type": "code",
      "execution_count": 4,
      "metadata": {
        "colab": {},
        "colab_type": "code",
        "id": "7AMm19NW0bJR"
      },
      "outputs": [],
      "source": [
        "df_no_smiles = df.drop(columns='canonical_smiles')"
      ]
    },
    {
      "cell_type": "code",
      "execution_count": 5,
      "metadata": {
        "colab": {},
        "colab_type": "code",
        "id": "aymiQsfdr5sY"
      },
      "outputs": [],
      "source": [
        "smiles = []\n",
        "\n",
        "for i in df.canonical_smiles.tolist():\n",
        "  cpd = str(i).split('.')\n",
        "  cpd_longest = max(cpd, key = len)\n",
        "  smiles.append(cpd_longest)\n",
        "\n",
        "smiles = pd.Series(smiles, name = 'canonical_smiles')"
      ]
    },
    {
      "cell_type": "code",
      "execution_count": 6,
      "metadata": {
        "colab": {
          "base_uri": "https://localhost:8080/",
          "height": 419
        },
        "colab_type": "code",
        "id": "l7a8qW_U85ZK",
        "outputId": "9e073a51-20d4-489c-b1f7-6a44d140c22b"
      },
      "outputs": [
        {
          "data": {
            "text/html": [
              "<div>\n",
              "<style scoped>\n",
              "    .dataframe tbody tr th:only-of-type {\n",
              "        vertical-align: middle;\n",
              "    }\n",
              "\n",
              "    .dataframe tbody tr th {\n",
              "        vertical-align: top;\n",
              "    }\n",
              "\n",
              "    .dataframe thead th {\n",
              "        text-align: right;\n",
              "    }\n",
              "</style>\n",
              "<table border=\"1\" class=\"dataframe\">\n",
              "  <thead>\n",
              "    <tr style=\"text-align: right;\">\n",
              "      <th></th>\n",
              "      <th>molecule_chembl_id</th>\n",
              "      <th>standard_value</th>\n",
              "      <th>class</th>\n",
              "      <th>canonical_smiles</th>\n",
              "    </tr>\n",
              "  </thead>\n",
              "  <tbody>\n",
              "    <tr>\n",
              "      <th>0</th>\n",
              "      <td>CHEMBL66654</td>\n",
              "      <td>36.0</td>\n",
              "      <td>active</td>\n",
              "      <td>Cc1cccc(C#Cc2ccccc2)n1</td>\n",
              "    </tr>\n",
              "    <tr>\n",
              "      <th>1</th>\n",
              "      <td>CHEMBL88612</td>\n",
              "      <td>3000.0</td>\n",
              "      <td>intermediate</td>\n",
              "      <td>Cc1cccc(/C=C/c2ccccc2)n1</td>\n",
              "    </tr>\n",
              "    <tr>\n",
              "      <th>2</th>\n",
              "      <td>CHEMBL2112677</td>\n",
              "      <td>10.0</td>\n",
              "      <td>active</td>\n",
              "      <td>[3H]C([3H])([3H])OCc1cccc(C#Cc2cccc(C)n2)c1</td>\n",
              "    </tr>\n",
              "    <tr>\n",
              "      <th>3</th>\n",
              "      <td>CHEMBL39338</td>\n",
              "      <td>300000.0</td>\n",
              "      <td>inactive</td>\n",
              "      <td>N[C@@H](C[C@H](CCCC(c1ccccc1)c1ccccc1)C(=O)O)C...</td>\n",
              "    </tr>\n",
              "    <tr>\n",
              "      <th>4</th>\n",
              "      <td>CHEMBL40123</td>\n",
              "      <td>300000.0</td>\n",
              "      <td>inactive</td>\n",
              "      <td>N[C@@H](C[C@H](CC(c1ccccc1)c1ccccc1)C(=O)O)C(=O)O</td>\n",
              "    </tr>\n",
              "    <tr>\n",
              "      <th>...</th>\n",
              "      <td>...</td>\n",
              "      <td>...</td>\n",
              "      <td>...</td>\n",
              "      <td>...</td>\n",
              "    </tr>\n",
              "    <tr>\n",
              "      <th>1967</th>\n",
              "      <td>CHEMBL4591221</td>\n",
              "      <td>477.0</td>\n",
              "      <td>active</td>\n",
              "      <td>CC(C)(C)c1cc2n(n1)CCN(C(=O)c1ccc3ccccc3c1)C2</td>\n",
              "    </tr>\n",
              "    <tr>\n",
              "      <th>1968</th>\n",
              "      <td>CHEMBL4572894</td>\n",
              "      <td>27.0</td>\n",
              "      <td>active</td>\n",
              "      <td>O=C1N[C@H](c2cncc(C#Cc3ccccc3)c2)[C@@H](c2c(F)...</td>\n",
              "    </tr>\n",
              "    <tr>\n",
              "      <th>1969</th>\n",
              "      <td>CHEMBL1527295</td>\n",
              "      <td>30000.0</td>\n",
              "      <td>inactive</td>\n",
              "      <td>CCOC(=O)c1cnc2c(OC)cccc2c1N1CCN(c2ccccc2F)CC1</td>\n",
              "    </tr>\n",
              "    <tr>\n",
              "      <th>1970</th>\n",
              "      <td>CHEMBL4751065</td>\n",
              "      <td>12500.0</td>\n",
              "      <td>inactive</td>\n",
              "      <td>N[C@]1(C(=O)O)[C@@H]2[C@@H](C(=O)O)[C@@H]2[C@H...</td>\n",
              "    </tr>\n",
              "    <tr>\n",
              "      <th>1971</th>\n",
              "      <td>CHEMBL4758183</td>\n",
              "      <td>10000.0</td>\n",
              "      <td>inactive</td>\n",
              "      <td>O=C1CCSC[C@@H](C(=O)Nc2cc(Cl)cc(Br)c2)N1</td>\n",
              "    </tr>\n",
              "  </tbody>\n",
              "</table>\n",
              "<p>1972 rows × 4 columns</p>\n",
              "</div>"
            ],
            "text/plain": [
              "     molecule_chembl_id  standard_value         class  \\\n",
              "0           CHEMBL66654            36.0        active   \n",
              "1           CHEMBL88612          3000.0  intermediate   \n",
              "2         CHEMBL2112677            10.0        active   \n",
              "3           CHEMBL39338        300000.0      inactive   \n",
              "4           CHEMBL40123        300000.0      inactive   \n",
              "...                 ...             ...           ...   \n",
              "1967      CHEMBL4591221           477.0        active   \n",
              "1968      CHEMBL4572894            27.0        active   \n",
              "1969      CHEMBL1527295         30000.0      inactive   \n",
              "1970      CHEMBL4751065         12500.0      inactive   \n",
              "1971      CHEMBL4758183         10000.0      inactive   \n",
              "\n",
              "                                       canonical_smiles  \n",
              "0                                Cc1cccc(C#Cc2ccccc2)n1  \n",
              "1                              Cc1cccc(/C=C/c2ccccc2)n1  \n",
              "2           [3H]C([3H])([3H])OCc1cccc(C#Cc2cccc(C)n2)c1  \n",
              "3     N[C@@H](C[C@H](CCCC(c1ccccc1)c1ccccc1)C(=O)O)C...  \n",
              "4     N[C@@H](C[C@H](CC(c1ccccc1)c1ccccc1)C(=O)O)C(=O)O  \n",
              "...                                                 ...  \n",
              "1967       CC(C)(C)c1cc2n(n1)CCN(C(=O)c1ccc3ccccc3c1)C2  \n",
              "1968  O=C1N[C@H](c2cncc(C#Cc3ccccc3)c2)[C@@H](c2c(F)...  \n",
              "1969      CCOC(=O)c1cnc2c(OC)cccc2c1N1CCN(c2ccccc2F)CC1  \n",
              "1970  N[C@]1(C(=O)O)[C@@H]2[C@@H](C(=O)O)[C@@H]2[C@H...  \n",
              "1971           O=C1CCSC[C@@H](C(=O)Nc2cc(Cl)cc(Br)c2)N1  \n",
              "\n",
              "[1972 rows x 4 columns]"
            ]
          },
          "execution_count": 6,
          "metadata": {},
          "output_type": "execute_result"
        }
      ],
      "source": [
        "df_clean_smiles = pd.concat([df_no_smiles,smiles], axis=1)\n",
        "df_clean_smiles"
      ]
    },
    {
      "cell_type": "markdown",
      "metadata": {
        "colab_type": "text",
        "id": "YzN_S4Quro5S"
      },
      "source": [
        "## **Calculate Lipinski descriptors**\n",
        "Christopher Lipinski, a scientist at Pfizer, came up with a set of rule-of-thumb for evaluating the **druglikeness** of compounds. Such druglikeness is based on the Absorption, Distribution, Metabolism and Excretion (ADME) that is also known as the pharmacokinetic profile. Lipinski analyzed all orally active FDA-approved drugs in the formulation of what is to be known as the **Rule-of-Five** or **Lipinski's Rule**.\n",
        "\n",
        "The Lipinski's Rule stated the following:\n",
        "* Molecular weight < 500 Dalton\n",
        "* Octanol-water partition coefficient (LogP) < 5\n",
        "* Hydrogen bond donors < 5\n",
        "* Hydrogen bond acceptors < 10 "
      ]
    },
    {
      "cell_type": "markdown",
      "metadata": {
        "colab_type": "text",
        "id": "9qn_eQcnxY7C"
      },
      "source": [
        "### **Import libraries**"
      ]
    },
    {
      "cell_type": "code",
      "execution_count": 8,
      "metadata": {},
      "outputs": [
        {
          "name": "stdout",
          "output_type": "stream",
          "text": [
            "Collecting rdkit-pypi\n",
            "  Downloading rdkit_pypi-2022.9.5-cp310-cp310-manylinux_2_17_x86_64.manylinux2014_x86_64.whl.metadata (3.9 kB)\n",
            "Requirement already satisfied: numpy in /home/codespace/.local/lib/python3.10/site-packages (from rdkit-pypi) (1.26.4)\n",
            "Requirement already satisfied: Pillow in /home/codespace/.local/lib/python3.10/site-packages (from rdkit-pypi) (10.3.0)\n",
            "Downloading rdkit_pypi-2022.9.5-cp310-cp310-manylinux_2_17_x86_64.manylinux2014_x86_64.whl (29.4 MB)\n",
            "\u001b[2K   \u001b[90m━━━━━━━━━━━━━━━━━━━━━━━━━━━━━━━━━━━━━━━━\u001b[0m \u001b[32m29.4/29.4 MB\u001b[0m \u001b[31m20.6 MB/s\u001b[0m eta \u001b[36m0:00:00\u001b[0m00:01\u001b[0m00:01\u001b[0m\n",
            "\u001b[?25hInstalling collected packages: rdkit-pypi\n",
            "Successfully installed rdkit-pypi-2022.9.5\n"
          ]
        }
      ],
      "source": [
        "!pip install rdkit-pypi"
      ]
    },
    {
      "cell_type": "code",
      "execution_count": 9,
      "metadata": {
        "colab": {},
        "colab_type": "code",
        "id": "CgBjIdT-rnRU"
      },
      "outputs": [],
      "source": [
        "import numpy as np\n",
        "from rdkit import Chem\n",
        "from rdkit.Chem import Descriptors, Lipinski"
      ]
    },
    {
      "cell_type": "markdown",
      "metadata": {
        "colab_type": "text",
        "id": "JsgTV-ByxdMa"
      },
      "source": [
        "### **Calculate descriptors**"
      ]
    },
    {
      "cell_type": "code",
      "execution_count": 10,
      "metadata": {
        "colab": {},
        "colab_type": "code",
        "id": "bCXEY7a9ugO_"
      },
      "outputs": [],
      "source": [
        "# Inspired by: https://codeocean.com/explore/capsules?query=tag:data-curation\n",
        "\n",
        "def lipinski(smiles, verbose=False):\n",
        "\n",
        "    moldata= []\n",
        "    for elem in smiles:\n",
        "        mol=Chem.MolFromSmiles(elem) \n",
        "        moldata.append(mol)\n",
        "       \n",
        "    baseData= np.arange(1,1)\n",
        "    i=0  \n",
        "    for mol in moldata:        \n",
        "       \n",
        "        desc_MolWt = Descriptors.MolWt(mol)\n",
        "        desc_MolLogP = Descriptors.MolLogP(mol)\n",
        "        desc_NumHDonors = Lipinski.NumHDonors(mol)\n",
        "        desc_NumHAcceptors = Lipinski.NumHAcceptors(mol)\n",
        "           \n",
        "        row = np.array([desc_MolWt,\n",
        "                        desc_MolLogP,\n",
        "                        desc_NumHDonors,\n",
        "                        desc_NumHAcceptors])   \n",
        "    \n",
        "        if(i==0):\n",
        "            baseData=row\n",
        "        else:\n",
        "            baseData=np.vstack([baseData, row])\n",
        "        i=i+1      \n",
        "    \n",
        "    columnNames=[\"MW\",\"LogP\",\"NumHDonors\",\"NumHAcceptors\"]   \n",
        "    descriptors = pd.DataFrame(data=baseData,columns=columnNames)\n",
        "    \n",
        "    return descriptors"
      ]
    },
    {
      "cell_type": "code",
      "execution_count": 11,
      "metadata": {
        "colab": {
          "base_uri": "https://localhost:8080/",
          "height": 419
        },
        "colab_type": "code",
        "id": "ThFIFw8IukMY",
        "outputId": "574c050c-44f1-43be-bf6c-bf973d8d0675"
      },
      "outputs": [
        {
          "data": {
            "text/html": [
              "<div>\n",
              "<style scoped>\n",
              "    .dataframe tbody tr th:only-of-type {\n",
              "        vertical-align: middle;\n",
              "    }\n",
              "\n",
              "    .dataframe tbody tr th {\n",
              "        vertical-align: top;\n",
              "    }\n",
              "\n",
              "    .dataframe thead th {\n",
              "        text-align: right;\n",
              "    }\n",
              "</style>\n",
              "<table border=\"1\" class=\"dataframe\">\n",
              "  <thead>\n",
              "    <tr style=\"text-align: right;\">\n",
              "      <th></th>\n",
              "      <th>MW</th>\n",
              "      <th>LogP</th>\n",
              "      <th>NumHDonors</th>\n",
              "      <th>NumHAcceptors</th>\n",
              "    </tr>\n",
              "  </thead>\n",
              "  <tbody>\n",
              "    <tr>\n",
              "      <th>0</th>\n",
              "      <td>193.249000</td>\n",
              "      <td>2.78982</td>\n",
              "      <td>0.0</td>\n",
              "      <td>1.0</td>\n",
              "    </tr>\n",
              "    <tr>\n",
              "      <th>1</th>\n",
              "      <td>195.265000</td>\n",
              "      <td>3.56042</td>\n",
              "      <td>0.0</td>\n",
              "      <td>1.0</td>\n",
              "    </tr>\n",
              "    <tr>\n",
              "      <th>2</th>\n",
              "      <td>243.326148</td>\n",
              "      <td>2.93622</td>\n",
              "      <td>0.0</td>\n",
              "      <td>2.0</td>\n",
              "    </tr>\n",
              "    <tr>\n",
              "      <th>3</th>\n",
              "      <td>355.434000</td>\n",
              "      <td>3.49160</td>\n",
              "      <td>3.0</td>\n",
              "      <td>3.0</td>\n",
              "    </tr>\n",
              "    <tr>\n",
              "      <th>4</th>\n",
              "      <td>327.380000</td>\n",
              "      <td>2.71140</td>\n",
              "      <td>3.0</td>\n",
              "      <td>3.0</td>\n",
              "    </tr>\n",
              "    <tr>\n",
              "      <th>...</th>\n",
              "      <td>...</td>\n",
              "      <td>...</td>\n",
              "      <td>...</td>\n",
              "      <td>...</td>\n",
              "    </tr>\n",
              "    <tr>\n",
              "      <th>1967</th>\n",
              "      <td>333.435000</td>\n",
              "      <td>3.98980</td>\n",
              "      <td>0.0</td>\n",
              "      <td>3.0</td>\n",
              "    </tr>\n",
              "    <tr>\n",
              "      <th>1968</th>\n",
              "      <td>376.362000</td>\n",
              "      <td>4.28180</td>\n",
              "      <td>1.0</td>\n",
              "      <td>3.0</td>\n",
              "    </tr>\n",
              "    <tr>\n",
              "      <th>1969</th>\n",
              "      <td>409.461000</td>\n",
              "      <td>3.88580</td>\n",
              "      <td>0.0</td>\n",
              "      <td>6.0</td>\n",
              "    </tr>\n",
              "    <tr>\n",
              "      <th>1970</th>\n",
              "      <td>359.350000</td>\n",
              "      <td>0.77650</td>\n",
              "      <td>4.0</td>\n",
              "      <td>5.0</td>\n",
              "    </tr>\n",
              "    <tr>\n",
              "      <th>1971</th>\n",
              "      <td>363.664000</td>\n",
              "      <td>2.66270</td>\n",
              "      <td>2.0</td>\n",
              "      <td>3.0</td>\n",
              "    </tr>\n",
              "  </tbody>\n",
              "</table>\n",
              "<p>1972 rows × 4 columns</p>\n",
              "</div>"
            ],
            "text/plain": [
              "              MW     LogP  NumHDonors  NumHAcceptors\n",
              "0     193.249000  2.78982         0.0            1.0\n",
              "1     195.265000  3.56042         0.0            1.0\n",
              "2     243.326148  2.93622         0.0            2.0\n",
              "3     355.434000  3.49160         3.0            3.0\n",
              "4     327.380000  2.71140         3.0            3.0\n",
              "...          ...      ...         ...            ...\n",
              "1967  333.435000  3.98980         0.0            3.0\n",
              "1968  376.362000  4.28180         1.0            3.0\n",
              "1969  409.461000  3.88580         0.0            6.0\n",
              "1970  359.350000  0.77650         4.0            5.0\n",
              "1971  363.664000  2.66270         2.0            3.0\n",
              "\n",
              "[1972 rows x 4 columns]"
            ]
          },
          "execution_count": 11,
          "metadata": {},
          "output_type": "execute_result"
        }
      ],
      "source": [
        "df_lipinski = lipinski(df_clean_smiles.canonical_smiles)\n",
        "df_lipinski"
      ]
    },
    {
      "cell_type": "markdown",
      "metadata": {
        "colab_type": "text",
        "id": "gUMlPfFrxicj"
      },
      "source": [
        "### **Combine DataFrames**\n",
        "\n",
        "Let's take a look at the 2 DataFrames that will be combined."
      ]
    },
    {
      "cell_type": "code",
      "execution_count": 12,
      "metadata": {
        "colab": {
          "base_uri": "https://localhost:8080/",
          "height": 419
        },
        "colab_type": "code",
        "id": "DaezyM5vwp9n",
        "outputId": "14dfe606-85e1-43ca-aaec-feb5b59f5404"
      },
      "outputs": [
        {
          "data": {
            "text/html": [
              "<div>\n",
              "<style scoped>\n",
              "    .dataframe tbody tr th:only-of-type {\n",
              "        vertical-align: middle;\n",
              "    }\n",
              "\n",
              "    .dataframe tbody tr th {\n",
              "        vertical-align: top;\n",
              "    }\n",
              "\n",
              "    .dataframe thead th {\n",
              "        text-align: right;\n",
              "    }\n",
              "</style>\n",
              "<table border=\"1\" class=\"dataframe\">\n",
              "  <thead>\n",
              "    <tr style=\"text-align: right;\">\n",
              "      <th></th>\n",
              "      <th>MW</th>\n",
              "      <th>LogP</th>\n",
              "      <th>NumHDonors</th>\n",
              "      <th>NumHAcceptors</th>\n",
              "    </tr>\n",
              "  </thead>\n",
              "  <tbody>\n",
              "    <tr>\n",
              "      <th>0</th>\n",
              "      <td>193.249000</td>\n",
              "      <td>2.78982</td>\n",
              "      <td>0.0</td>\n",
              "      <td>1.0</td>\n",
              "    </tr>\n",
              "    <tr>\n",
              "      <th>1</th>\n",
              "      <td>195.265000</td>\n",
              "      <td>3.56042</td>\n",
              "      <td>0.0</td>\n",
              "      <td>1.0</td>\n",
              "    </tr>\n",
              "    <tr>\n",
              "      <th>2</th>\n",
              "      <td>243.326148</td>\n",
              "      <td>2.93622</td>\n",
              "      <td>0.0</td>\n",
              "      <td>2.0</td>\n",
              "    </tr>\n",
              "    <tr>\n",
              "      <th>3</th>\n",
              "      <td>355.434000</td>\n",
              "      <td>3.49160</td>\n",
              "      <td>3.0</td>\n",
              "      <td>3.0</td>\n",
              "    </tr>\n",
              "    <tr>\n",
              "      <th>4</th>\n",
              "      <td>327.380000</td>\n",
              "      <td>2.71140</td>\n",
              "      <td>3.0</td>\n",
              "      <td>3.0</td>\n",
              "    </tr>\n",
              "    <tr>\n",
              "      <th>...</th>\n",
              "      <td>...</td>\n",
              "      <td>...</td>\n",
              "      <td>...</td>\n",
              "      <td>...</td>\n",
              "    </tr>\n",
              "    <tr>\n",
              "      <th>1967</th>\n",
              "      <td>333.435000</td>\n",
              "      <td>3.98980</td>\n",
              "      <td>0.0</td>\n",
              "      <td>3.0</td>\n",
              "    </tr>\n",
              "    <tr>\n",
              "      <th>1968</th>\n",
              "      <td>376.362000</td>\n",
              "      <td>4.28180</td>\n",
              "      <td>1.0</td>\n",
              "      <td>3.0</td>\n",
              "    </tr>\n",
              "    <tr>\n",
              "      <th>1969</th>\n",
              "      <td>409.461000</td>\n",
              "      <td>3.88580</td>\n",
              "      <td>0.0</td>\n",
              "      <td>6.0</td>\n",
              "    </tr>\n",
              "    <tr>\n",
              "      <th>1970</th>\n",
              "      <td>359.350000</td>\n",
              "      <td>0.77650</td>\n",
              "      <td>4.0</td>\n",
              "      <td>5.0</td>\n",
              "    </tr>\n",
              "    <tr>\n",
              "      <th>1971</th>\n",
              "      <td>363.664000</td>\n",
              "      <td>2.66270</td>\n",
              "      <td>2.0</td>\n",
              "      <td>3.0</td>\n",
              "    </tr>\n",
              "  </tbody>\n",
              "</table>\n",
              "<p>1972 rows × 4 columns</p>\n",
              "</div>"
            ],
            "text/plain": [
              "              MW     LogP  NumHDonors  NumHAcceptors\n",
              "0     193.249000  2.78982         0.0            1.0\n",
              "1     195.265000  3.56042         0.0            1.0\n",
              "2     243.326148  2.93622         0.0            2.0\n",
              "3     355.434000  3.49160         3.0            3.0\n",
              "4     327.380000  2.71140         3.0            3.0\n",
              "...          ...      ...         ...            ...\n",
              "1967  333.435000  3.98980         0.0            3.0\n",
              "1968  376.362000  4.28180         1.0            3.0\n",
              "1969  409.461000  3.88580         0.0            6.0\n",
              "1970  359.350000  0.77650         4.0            5.0\n",
              "1971  363.664000  2.66270         2.0            3.0\n",
              "\n",
              "[1972 rows x 4 columns]"
            ]
          },
          "execution_count": 12,
          "metadata": {},
          "output_type": "execute_result"
        }
      ],
      "source": [
        "df_lipinski"
      ]
    },
    {
      "cell_type": "code",
      "execution_count": 13,
      "metadata": {
        "colab": {
          "base_uri": "https://localhost:8080/",
          "height": 419
        },
        "colab_type": "code",
        "id": "9-ChzM8_wuq_",
        "outputId": "64a6a0c0-e29a-4cdd-c9ea-9b102b63cfe2"
      },
      "outputs": [
        {
          "data": {
            "text/html": [
              "<div>\n",
              "<style scoped>\n",
              "    .dataframe tbody tr th:only-of-type {\n",
              "        vertical-align: middle;\n",
              "    }\n",
              "\n",
              "    .dataframe tbody tr th {\n",
              "        vertical-align: top;\n",
              "    }\n",
              "\n",
              "    .dataframe thead th {\n",
              "        text-align: right;\n",
              "    }\n",
              "</style>\n",
              "<table border=\"1\" class=\"dataframe\">\n",
              "  <thead>\n",
              "    <tr style=\"text-align: right;\">\n",
              "      <th></th>\n",
              "      <th>molecule_chembl_id</th>\n",
              "      <th>canonical_smiles</th>\n",
              "      <th>standard_value</th>\n",
              "      <th>class</th>\n",
              "    </tr>\n",
              "  </thead>\n",
              "  <tbody>\n",
              "    <tr>\n",
              "      <th>0</th>\n",
              "      <td>CHEMBL66654</td>\n",
              "      <td>Cc1cccc(C#Cc2ccccc2)n1</td>\n",
              "      <td>36.0</td>\n",
              "      <td>active</td>\n",
              "    </tr>\n",
              "    <tr>\n",
              "      <th>1</th>\n",
              "      <td>CHEMBL88612</td>\n",
              "      <td>Cc1cccc(/C=C/c2ccccc2)n1</td>\n",
              "      <td>3000.0</td>\n",
              "      <td>intermediate</td>\n",
              "    </tr>\n",
              "    <tr>\n",
              "      <th>2</th>\n",
              "      <td>CHEMBL2112677</td>\n",
              "      <td>[3H]C([3H])([3H])OCc1cccc(C#Cc2cccc(C)n2)c1</td>\n",
              "      <td>10.0</td>\n",
              "      <td>active</td>\n",
              "    </tr>\n",
              "    <tr>\n",
              "      <th>3</th>\n",
              "      <td>CHEMBL39338</td>\n",
              "      <td>N[C@@H](C[C@H](CCCC(c1ccccc1)c1ccccc1)C(=O)O)C...</td>\n",
              "      <td>300000.0</td>\n",
              "      <td>inactive</td>\n",
              "    </tr>\n",
              "    <tr>\n",
              "      <th>4</th>\n",
              "      <td>CHEMBL40123</td>\n",
              "      <td>N[C@@H](C[C@H](CC(c1ccccc1)c1ccccc1)C(=O)O)C(=O)O</td>\n",
              "      <td>300000.0</td>\n",
              "      <td>inactive</td>\n",
              "    </tr>\n",
              "    <tr>\n",
              "      <th>...</th>\n",
              "      <td>...</td>\n",
              "      <td>...</td>\n",
              "      <td>...</td>\n",
              "      <td>...</td>\n",
              "    </tr>\n",
              "    <tr>\n",
              "      <th>1967</th>\n",
              "      <td>CHEMBL4591221</td>\n",
              "      <td>CC(C)(C)c1cc2n(n1)CCN(C(=O)c1ccc3ccccc3c1)C2</td>\n",
              "      <td>477.0</td>\n",
              "      <td>active</td>\n",
              "    </tr>\n",
              "    <tr>\n",
              "      <th>1968</th>\n",
              "      <td>CHEMBL4572894</td>\n",
              "      <td>O=C1N[C@H](c2cncc(C#Cc3ccccc3)c2)[C@@H](c2c(F)...</td>\n",
              "      <td>27.0</td>\n",
              "      <td>active</td>\n",
              "    </tr>\n",
              "    <tr>\n",
              "      <th>1969</th>\n",
              "      <td>CHEMBL1527295</td>\n",
              "      <td>CCOC(=O)c1cnc2c(OC)cccc2c1N1CCN(c2ccccc2F)CC1</td>\n",
              "      <td>30000.0</td>\n",
              "      <td>inactive</td>\n",
              "    </tr>\n",
              "    <tr>\n",
              "      <th>1970</th>\n",
              "      <td>CHEMBL4751065</td>\n",
              "      <td>Cl.N[C@]1(C(=O)O)[C@@H]2[C@@H](C(=O)O)[C@@H]2[...</td>\n",
              "      <td>12500.0</td>\n",
              "      <td>inactive</td>\n",
              "    </tr>\n",
              "    <tr>\n",
              "      <th>1971</th>\n",
              "      <td>CHEMBL4758183</td>\n",
              "      <td>O=C1CCSC[C@@H](C(=O)Nc2cc(Cl)cc(Br)c2)N1</td>\n",
              "      <td>10000.0</td>\n",
              "      <td>inactive</td>\n",
              "    </tr>\n",
              "  </tbody>\n",
              "</table>\n",
              "<p>1972 rows × 4 columns</p>\n",
              "</div>"
            ],
            "text/plain": [
              "     molecule_chembl_id                                   canonical_smiles  \\\n",
              "0           CHEMBL66654                             Cc1cccc(C#Cc2ccccc2)n1   \n",
              "1           CHEMBL88612                           Cc1cccc(/C=C/c2ccccc2)n1   \n",
              "2         CHEMBL2112677        [3H]C([3H])([3H])OCc1cccc(C#Cc2cccc(C)n2)c1   \n",
              "3           CHEMBL39338  N[C@@H](C[C@H](CCCC(c1ccccc1)c1ccccc1)C(=O)O)C...   \n",
              "4           CHEMBL40123  N[C@@H](C[C@H](CC(c1ccccc1)c1ccccc1)C(=O)O)C(=O)O   \n",
              "...                 ...                                                ...   \n",
              "1967      CHEMBL4591221       CC(C)(C)c1cc2n(n1)CCN(C(=O)c1ccc3ccccc3c1)C2   \n",
              "1968      CHEMBL4572894  O=C1N[C@H](c2cncc(C#Cc3ccccc3)c2)[C@@H](c2c(F)...   \n",
              "1969      CHEMBL1527295      CCOC(=O)c1cnc2c(OC)cccc2c1N1CCN(c2ccccc2F)CC1   \n",
              "1970      CHEMBL4751065  Cl.N[C@]1(C(=O)O)[C@@H]2[C@@H](C(=O)O)[C@@H]2[...   \n",
              "1971      CHEMBL4758183           O=C1CCSC[C@@H](C(=O)Nc2cc(Cl)cc(Br)c2)N1   \n",
              "\n",
              "      standard_value         class  \n",
              "0               36.0        active  \n",
              "1             3000.0  intermediate  \n",
              "2               10.0        active  \n",
              "3           300000.0      inactive  \n",
              "4           300000.0      inactive  \n",
              "...              ...           ...  \n",
              "1967           477.0        active  \n",
              "1968            27.0        active  \n",
              "1969         30000.0      inactive  \n",
              "1970         12500.0      inactive  \n",
              "1971         10000.0      inactive  \n",
              "\n",
              "[1972 rows x 4 columns]"
            ]
          },
          "execution_count": 13,
          "metadata": {},
          "output_type": "execute_result"
        }
      ],
      "source": [
        "df"
      ]
    },
    {
      "cell_type": "markdown",
      "metadata": {
        "colab_type": "text",
        "id": "eET6iZ1Aw3oe"
      },
      "source": [
        "Now, let's combine the 2 DataFrame"
      ]
    },
    {
      "cell_type": "code",
      "execution_count": 14,
      "metadata": {
        "colab": {},
        "colab_type": "code",
        "id": "L9nUZC0Ww3gp"
      },
      "outputs": [],
      "source": [
        "df_combined = pd.concat([df,df_lipinski], axis=1)"
      ]
    },
    {
      "cell_type": "code",
      "execution_count": 15,
      "metadata": {
        "colab": {
          "base_uri": "https://localhost:8080/",
          "height": 419
        },
        "colab_type": "code",
        "id": "FRBfBP3QxFJp",
        "outputId": "33528544-8108-4303-a9f2-977c0f6aef91"
      },
      "outputs": [
        {
          "data": {
            "text/html": [
              "<div>\n",
              "<style scoped>\n",
              "    .dataframe tbody tr th:only-of-type {\n",
              "        vertical-align: middle;\n",
              "    }\n",
              "\n",
              "    .dataframe tbody tr th {\n",
              "        vertical-align: top;\n",
              "    }\n",
              "\n",
              "    .dataframe thead th {\n",
              "        text-align: right;\n",
              "    }\n",
              "</style>\n",
              "<table border=\"1\" class=\"dataframe\">\n",
              "  <thead>\n",
              "    <tr style=\"text-align: right;\">\n",
              "      <th></th>\n",
              "      <th>molecule_chembl_id</th>\n",
              "      <th>canonical_smiles</th>\n",
              "      <th>standard_value</th>\n",
              "      <th>class</th>\n",
              "      <th>MW</th>\n",
              "      <th>LogP</th>\n",
              "      <th>NumHDonors</th>\n",
              "      <th>NumHAcceptors</th>\n",
              "    </tr>\n",
              "  </thead>\n",
              "  <tbody>\n",
              "    <tr>\n",
              "      <th>0</th>\n",
              "      <td>CHEMBL66654</td>\n",
              "      <td>Cc1cccc(C#Cc2ccccc2)n1</td>\n",
              "      <td>36.0</td>\n",
              "      <td>active</td>\n",
              "      <td>193.249000</td>\n",
              "      <td>2.78982</td>\n",
              "      <td>0.0</td>\n",
              "      <td>1.0</td>\n",
              "    </tr>\n",
              "    <tr>\n",
              "      <th>1</th>\n",
              "      <td>CHEMBL88612</td>\n",
              "      <td>Cc1cccc(/C=C/c2ccccc2)n1</td>\n",
              "      <td>3000.0</td>\n",
              "      <td>intermediate</td>\n",
              "      <td>195.265000</td>\n",
              "      <td>3.56042</td>\n",
              "      <td>0.0</td>\n",
              "      <td>1.0</td>\n",
              "    </tr>\n",
              "    <tr>\n",
              "      <th>2</th>\n",
              "      <td>CHEMBL2112677</td>\n",
              "      <td>[3H]C([3H])([3H])OCc1cccc(C#Cc2cccc(C)n2)c1</td>\n",
              "      <td>10.0</td>\n",
              "      <td>active</td>\n",
              "      <td>243.326148</td>\n",
              "      <td>2.93622</td>\n",
              "      <td>0.0</td>\n",
              "      <td>2.0</td>\n",
              "    </tr>\n",
              "    <tr>\n",
              "      <th>3</th>\n",
              "      <td>CHEMBL39338</td>\n",
              "      <td>N[C@@H](C[C@H](CCCC(c1ccccc1)c1ccccc1)C(=O)O)C...</td>\n",
              "      <td>300000.0</td>\n",
              "      <td>inactive</td>\n",
              "      <td>355.434000</td>\n",
              "      <td>3.49160</td>\n",
              "      <td>3.0</td>\n",
              "      <td>3.0</td>\n",
              "    </tr>\n",
              "    <tr>\n",
              "      <th>4</th>\n",
              "      <td>CHEMBL40123</td>\n",
              "      <td>N[C@@H](C[C@H](CC(c1ccccc1)c1ccccc1)C(=O)O)C(=O)O</td>\n",
              "      <td>300000.0</td>\n",
              "      <td>inactive</td>\n",
              "      <td>327.380000</td>\n",
              "      <td>2.71140</td>\n",
              "      <td>3.0</td>\n",
              "      <td>3.0</td>\n",
              "    </tr>\n",
              "    <tr>\n",
              "      <th>...</th>\n",
              "      <td>...</td>\n",
              "      <td>...</td>\n",
              "      <td>...</td>\n",
              "      <td>...</td>\n",
              "      <td>...</td>\n",
              "      <td>...</td>\n",
              "      <td>...</td>\n",
              "      <td>...</td>\n",
              "    </tr>\n",
              "    <tr>\n",
              "      <th>1967</th>\n",
              "      <td>CHEMBL4591221</td>\n",
              "      <td>CC(C)(C)c1cc2n(n1)CCN(C(=O)c1ccc3ccccc3c1)C2</td>\n",
              "      <td>477.0</td>\n",
              "      <td>active</td>\n",
              "      <td>333.435000</td>\n",
              "      <td>3.98980</td>\n",
              "      <td>0.0</td>\n",
              "      <td>3.0</td>\n",
              "    </tr>\n",
              "    <tr>\n",
              "      <th>1968</th>\n",
              "      <td>CHEMBL4572894</td>\n",
              "      <td>O=C1N[C@H](c2cncc(C#Cc3ccccc3)c2)[C@@H](c2c(F)...</td>\n",
              "      <td>27.0</td>\n",
              "      <td>active</td>\n",
              "      <td>376.362000</td>\n",
              "      <td>4.28180</td>\n",
              "      <td>1.0</td>\n",
              "      <td>3.0</td>\n",
              "    </tr>\n",
              "    <tr>\n",
              "      <th>1969</th>\n",
              "      <td>CHEMBL1527295</td>\n",
              "      <td>CCOC(=O)c1cnc2c(OC)cccc2c1N1CCN(c2ccccc2F)CC1</td>\n",
              "      <td>30000.0</td>\n",
              "      <td>inactive</td>\n",
              "      <td>409.461000</td>\n",
              "      <td>3.88580</td>\n",
              "      <td>0.0</td>\n",
              "      <td>6.0</td>\n",
              "    </tr>\n",
              "    <tr>\n",
              "      <th>1970</th>\n",
              "      <td>CHEMBL4751065</td>\n",
              "      <td>Cl.N[C@]1(C(=O)O)[C@@H]2[C@@H](C(=O)O)[C@@H]2[...</td>\n",
              "      <td>12500.0</td>\n",
              "      <td>inactive</td>\n",
              "      <td>359.350000</td>\n",
              "      <td>0.77650</td>\n",
              "      <td>4.0</td>\n",
              "      <td>5.0</td>\n",
              "    </tr>\n",
              "    <tr>\n",
              "      <th>1971</th>\n",
              "      <td>CHEMBL4758183</td>\n",
              "      <td>O=C1CCSC[C@@H](C(=O)Nc2cc(Cl)cc(Br)c2)N1</td>\n",
              "      <td>10000.0</td>\n",
              "      <td>inactive</td>\n",
              "      <td>363.664000</td>\n",
              "      <td>2.66270</td>\n",
              "      <td>2.0</td>\n",
              "      <td>3.0</td>\n",
              "    </tr>\n",
              "  </tbody>\n",
              "</table>\n",
              "<p>1972 rows × 8 columns</p>\n",
              "</div>"
            ],
            "text/plain": [
              "     molecule_chembl_id                                   canonical_smiles  \\\n",
              "0           CHEMBL66654                             Cc1cccc(C#Cc2ccccc2)n1   \n",
              "1           CHEMBL88612                           Cc1cccc(/C=C/c2ccccc2)n1   \n",
              "2         CHEMBL2112677        [3H]C([3H])([3H])OCc1cccc(C#Cc2cccc(C)n2)c1   \n",
              "3           CHEMBL39338  N[C@@H](C[C@H](CCCC(c1ccccc1)c1ccccc1)C(=O)O)C...   \n",
              "4           CHEMBL40123  N[C@@H](C[C@H](CC(c1ccccc1)c1ccccc1)C(=O)O)C(=O)O   \n",
              "...                 ...                                                ...   \n",
              "1967      CHEMBL4591221       CC(C)(C)c1cc2n(n1)CCN(C(=O)c1ccc3ccccc3c1)C2   \n",
              "1968      CHEMBL4572894  O=C1N[C@H](c2cncc(C#Cc3ccccc3)c2)[C@@H](c2c(F)...   \n",
              "1969      CHEMBL1527295      CCOC(=O)c1cnc2c(OC)cccc2c1N1CCN(c2ccccc2F)CC1   \n",
              "1970      CHEMBL4751065  Cl.N[C@]1(C(=O)O)[C@@H]2[C@@H](C(=O)O)[C@@H]2[...   \n",
              "1971      CHEMBL4758183           O=C1CCSC[C@@H](C(=O)Nc2cc(Cl)cc(Br)c2)N1   \n",
              "\n",
              "      standard_value         class          MW     LogP  NumHDonors  \\\n",
              "0               36.0        active  193.249000  2.78982         0.0   \n",
              "1             3000.0  intermediate  195.265000  3.56042         0.0   \n",
              "2               10.0        active  243.326148  2.93622         0.0   \n",
              "3           300000.0      inactive  355.434000  3.49160         3.0   \n",
              "4           300000.0      inactive  327.380000  2.71140         3.0   \n",
              "...              ...           ...         ...      ...         ...   \n",
              "1967           477.0        active  333.435000  3.98980         0.0   \n",
              "1968            27.0        active  376.362000  4.28180         1.0   \n",
              "1969         30000.0      inactive  409.461000  3.88580         0.0   \n",
              "1970         12500.0      inactive  359.350000  0.77650         4.0   \n",
              "1971         10000.0      inactive  363.664000  2.66270         2.0   \n",
              "\n",
              "      NumHAcceptors  \n",
              "0               1.0  \n",
              "1               1.0  \n",
              "2               2.0  \n",
              "3               3.0  \n",
              "4               3.0  \n",
              "...             ...  \n",
              "1967            3.0  \n",
              "1968            3.0  \n",
              "1969            6.0  \n",
              "1970            5.0  \n",
              "1971            3.0  \n",
              "\n",
              "[1972 rows x 8 columns]"
            ]
          },
          "execution_count": 15,
          "metadata": {},
          "output_type": "execute_result"
        }
      ],
      "source": [
        "df_combined"
      ]
    },
    {
      "cell_type": "markdown",
      "metadata": {
        "colab_type": "text",
        "id": "e0MLOedB6j96"
      },
      "source": [
        "### **Convert IC50 to pIC50**\n",
        "To allow **IC50** data to be more uniformly distributed, we will convert **IC50** to the negative logarithmic scale which is essentially **-log10(IC50)**.\n",
        "\n",
        "This custom function pIC50() will accept a DataFrame as input and will:\n",
        "* Take the IC50 values from the ``standard_value`` column and converts it from nM to M by multiplying the value by 10$^{-9}$\n",
        "* Take the molar value and apply -log10\n",
        "* Delete the ``standard_value`` column and create a new ``pIC50`` column"
      ]
    },
    {
      "cell_type": "code",
      "execution_count": 16,
      "metadata": {
        "colab": {},
        "colab_type": "code",
        "id": "UXMuFQoQ4pZF"
      },
      "outputs": [],
      "source": [
        "# https://github.com/chaninlab/estrogen-receptor-alpha-qsar/blob/master/02_ER_alpha_RO5.ipynb\n",
        "\n",
        "import numpy as np\n",
        "\n",
        "def pIC50(input):\n",
        "    pIC50 = []\n",
        "\n",
        "    for i in input['standard_value_norm']:\n",
        "        molar = i*(10**-9) # Converts nM to M\n",
        "        pIC50.append(-np.log10(molar))\n",
        "\n",
        "    input['pIC50'] = pIC50\n",
        "    x = input.drop('standard_value_norm', 1)\n",
        "        \n",
        "    return x"
      ]
    },
    {
      "cell_type": "markdown",
      "metadata": {
        "colab_type": "text",
        "id": "WU5Fh1h2OaJJ"
      },
      "source": [
        "Point to note: Values greater than 100,000,000 will be fixed at 100,000,000 otherwise the negative logarithmic value will become negative."
      ]
    },
    {
      "cell_type": "code",
      "execution_count": 17,
      "metadata": {
        "colab": {
          "base_uri": "https://localhost:8080/",
          "height": 170
        },
        "colab_type": "code",
        "id": "QuUTFUpcR1wU",
        "outputId": "3e3fe22d-8587-42e3-c92e-396d37877589"
      },
      "outputs": [
        {
          "data": {
            "text/plain": [
              "count    1.972000e+03\n",
              "mean     1.517794e+04\n",
              "std      2.290798e+05\n",
              "min      3.200000e-01\n",
              "25%      6.310000e+01\n",
              "50%      4.410000e+02\n",
              "75%      3.555000e+03\n",
              "max      1.000000e+07\n",
              "Name: standard_value, dtype: float64"
            ]
          },
          "execution_count": 17,
          "metadata": {},
          "output_type": "execute_result"
        }
      ],
      "source": [
        "df_combined.standard_value.describe()"
      ]
    },
    {
      "cell_type": "code",
      "execution_count": 18,
      "metadata": {
        "colab": {
          "base_uri": "https://localhost:8080/",
          "height": 34
        },
        "colab_type": "code",
        "id": "QyiJ0to5N6Z_",
        "outputId": "58b38ec2-8f7d-4f44-cc35-1ef394f57854"
      },
      "outputs": [
        {
          "data": {
            "text/plain": [
              "1.0"
            ]
          },
          "execution_count": 18,
          "metadata": {},
          "output_type": "execute_result"
        }
      ],
      "source": [
        "-np.log10( (10**-9)* 100000000 )"
      ]
    },
    {
      "cell_type": "code",
      "execution_count": 19,
      "metadata": {
        "colab": {
          "base_uri": "https://localhost:8080/",
          "height": 34
        },
        "colab_type": "code",
        "id": "9S1aJkOYOP6K",
        "outputId": "0d9c6937-7c36-4844-f84b-9a95a22802dc"
      },
      "outputs": [
        {
          "data": {
            "text/plain": [
              "-1.0"
            ]
          },
          "execution_count": 19,
          "metadata": {},
          "output_type": "execute_result"
        }
      ],
      "source": [
        "-np.log10( (10**-9)* 10000000000 )"
      ]
    },
    {
      "cell_type": "code",
      "execution_count": 26,
      "metadata": {
        "colab": {},
        "colab_type": "code",
        "id": "iktHDDwtPDwl"
      },
      "outputs": [],
      "source": [
        "def pIC50(input):\n",
        "    pIC50 = []\n",
        "\n",
        "    for molar in input['standard_value_norm']:\n",
        "        molar = float(molar)\n",
        "        pIC50.append(-np.log10(molar))\n",
        "\n",
        "    input['pIC50'] = pIC50\n",
        "    x = input.drop('standard_value_norm', axis=1)  # Fixed the drop function call\n",
        "\n",
        "    return x"
      ]
    },
    {
      "cell_type": "markdown",
      "metadata": {
        "colab_type": "text",
        "id": "EkrTs7RfPsrH"
      },
      "source": [
        "We will first apply the norm_value() function so that the values in the standard_value column is normalized."
      ]
    },
    {
      "cell_type": "code",
      "execution_count": 27,
      "metadata": {
        "colab": {
          "base_uri": "https://localhost:8080/",
          "height": 419
        },
        "colab_type": "code",
        "id": "EX2Mj2-ZP1Rj",
        "outputId": "8e07791e-d693-4d1b-9f82-f396d34c6338"
      },
      "outputs": [
        {
          "data": {
            "text/html": [
              "<div>\n",
              "<style scoped>\n",
              "    .dataframe tbody tr th:only-of-type {\n",
              "        vertical-align: middle;\n",
              "    }\n",
              "\n",
              "    .dataframe tbody tr th {\n",
              "        vertical-align: top;\n",
              "    }\n",
              "\n",
              "    .dataframe thead th {\n",
              "        text-align: right;\n",
              "    }\n",
              "</style>\n",
              "<table border=\"1\" class=\"dataframe\">\n",
              "  <thead>\n",
              "    <tr style=\"text-align: right;\">\n",
              "      <th></th>\n",
              "      <th>molecule_chembl_id</th>\n",
              "      <th>canonical_smiles</th>\n",
              "      <th>class</th>\n",
              "      <th>MW</th>\n",
              "      <th>LogP</th>\n",
              "      <th>NumHDonors</th>\n",
              "      <th>NumHAcceptors</th>\n",
              "      <th>standard_value_norm</th>\n",
              "    </tr>\n",
              "  </thead>\n",
              "  <tbody>\n",
              "    <tr>\n",
              "      <th>0</th>\n",
              "      <td>CHEMBL66654</td>\n",
              "      <td>Cc1cccc(C#Cc2ccccc2)n1</td>\n",
              "      <td>active</td>\n",
              "      <td>193.249000</td>\n",
              "      <td>2.78982</td>\n",
              "      <td>0.0</td>\n",
              "      <td>1.0</td>\n",
              "      <td>36.0</td>\n",
              "    </tr>\n",
              "    <tr>\n",
              "      <th>1</th>\n",
              "      <td>CHEMBL88612</td>\n",
              "      <td>Cc1cccc(/C=C/c2ccccc2)n1</td>\n",
              "      <td>intermediate</td>\n",
              "      <td>195.265000</td>\n",
              "      <td>3.56042</td>\n",
              "      <td>0.0</td>\n",
              "      <td>1.0</td>\n",
              "      <td>3000.0</td>\n",
              "    </tr>\n",
              "    <tr>\n",
              "      <th>2</th>\n",
              "      <td>CHEMBL2112677</td>\n",
              "      <td>[3H]C([3H])([3H])OCc1cccc(C#Cc2cccc(C)n2)c1</td>\n",
              "      <td>active</td>\n",
              "      <td>243.326148</td>\n",
              "      <td>2.93622</td>\n",
              "      <td>0.0</td>\n",
              "      <td>2.0</td>\n",
              "      <td>10.0</td>\n",
              "    </tr>\n",
              "    <tr>\n",
              "      <th>3</th>\n",
              "      <td>CHEMBL39338</td>\n",
              "      <td>N[C@@H](C[C@H](CCCC(c1ccccc1)c1ccccc1)C(=O)O)C...</td>\n",
              "      <td>inactive</td>\n",
              "      <td>355.434000</td>\n",
              "      <td>3.49160</td>\n",
              "      <td>3.0</td>\n",
              "      <td>3.0</td>\n",
              "      <td>300000.0</td>\n",
              "    </tr>\n",
              "    <tr>\n",
              "      <th>4</th>\n",
              "      <td>CHEMBL40123</td>\n",
              "      <td>N[C@@H](C[C@H](CC(c1ccccc1)c1ccccc1)C(=O)O)C(=O)O</td>\n",
              "      <td>inactive</td>\n",
              "      <td>327.380000</td>\n",
              "      <td>2.71140</td>\n",
              "      <td>3.0</td>\n",
              "      <td>3.0</td>\n",
              "      <td>300000.0</td>\n",
              "    </tr>\n",
              "    <tr>\n",
              "      <th>...</th>\n",
              "      <td>...</td>\n",
              "      <td>...</td>\n",
              "      <td>...</td>\n",
              "      <td>...</td>\n",
              "      <td>...</td>\n",
              "      <td>...</td>\n",
              "      <td>...</td>\n",
              "      <td>...</td>\n",
              "    </tr>\n",
              "    <tr>\n",
              "      <th>1967</th>\n",
              "      <td>CHEMBL4591221</td>\n",
              "      <td>CC(C)(C)c1cc2n(n1)CCN(C(=O)c1ccc3ccccc3c1)C2</td>\n",
              "      <td>active</td>\n",
              "      <td>333.435000</td>\n",
              "      <td>3.98980</td>\n",
              "      <td>0.0</td>\n",
              "      <td>3.0</td>\n",
              "      <td>477.0</td>\n",
              "    </tr>\n",
              "    <tr>\n",
              "      <th>1968</th>\n",
              "      <td>CHEMBL4572894</td>\n",
              "      <td>O=C1N[C@H](c2cncc(C#Cc3ccccc3)c2)[C@@H](c2c(F)...</td>\n",
              "      <td>active</td>\n",
              "      <td>376.362000</td>\n",
              "      <td>4.28180</td>\n",
              "      <td>1.0</td>\n",
              "      <td>3.0</td>\n",
              "      <td>27.0</td>\n",
              "    </tr>\n",
              "    <tr>\n",
              "      <th>1969</th>\n",
              "      <td>CHEMBL1527295</td>\n",
              "      <td>CCOC(=O)c1cnc2c(OC)cccc2c1N1CCN(c2ccccc2F)CC1</td>\n",
              "      <td>inactive</td>\n",
              "      <td>409.461000</td>\n",
              "      <td>3.88580</td>\n",
              "      <td>0.0</td>\n",
              "      <td>6.0</td>\n",
              "      <td>30000.0</td>\n",
              "    </tr>\n",
              "    <tr>\n",
              "      <th>1970</th>\n",
              "      <td>CHEMBL4751065</td>\n",
              "      <td>Cl.N[C@]1(C(=O)O)[C@@H]2[C@@H](C(=O)O)[C@@H]2[...</td>\n",
              "      <td>inactive</td>\n",
              "      <td>359.350000</td>\n",
              "      <td>0.77650</td>\n",
              "      <td>4.0</td>\n",
              "      <td>5.0</td>\n",
              "      <td>12500.0</td>\n",
              "    </tr>\n",
              "    <tr>\n",
              "      <th>1971</th>\n",
              "      <td>CHEMBL4758183</td>\n",
              "      <td>O=C1CCSC[C@@H](C(=O)Nc2cc(Cl)cc(Br)c2)N1</td>\n",
              "      <td>inactive</td>\n",
              "      <td>363.664000</td>\n",
              "      <td>2.66270</td>\n",
              "      <td>2.0</td>\n",
              "      <td>3.0</td>\n",
              "      <td>10000.0</td>\n",
              "    </tr>\n",
              "  </tbody>\n",
              "</table>\n",
              "<p>1972 rows × 8 columns</p>\n",
              "</div>"
            ],
            "text/plain": [
              "     molecule_chembl_id                                   canonical_smiles  \\\n",
              "0           CHEMBL66654                             Cc1cccc(C#Cc2ccccc2)n1   \n",
              "1           CHEMBL88612                           Cc1cccc(/C=C/c2ccccc2)n1   \n",
              "2         CHEMBL2112677        [3H]C([3H])([3H])OCc1cccc(C#Cc2cccc(C)n2)c1   \n",
              "3           CHEMBL39338  N[C@@H](C[C@H](CCCC(c1ccccc1)c1ccccc1)C(=O)O)C...   \n",
              "4           CHEMBL40123  N[C@@H](C[C@H](CC(c1ccccc1)c1ccccc1)C(=O)O)C(=O)O   \n",
              "...                 ...                                                ...   \n",
              "1967      CHEMBL4591221       CC(C)(C)c1cc2n(n1)CCN(C(=O)c1ccc3ccccc3c1)C2   \n",
              "1968      CHEMBL4572894  O=C1N[C@H](c2cncc(C#Cc3ccccc3)c2)[C@@H](c2c(F)...   \n",
              "1969      CHEMBL1527295      CCOC(=O)c1cnc2c(OC)cccc2c1N1CCN(c2ccccc2F)CC1   \n",
              "1970      CHEMBL4751065  Cl.N[C@]1(C(=O)O)[C@@H]2[C@@H](C(=O)O)[C@@H]2[...   \n",
              "1971      CHEMBL4758183           O=C1CCSC[C@@H](C(=O)Nc2cc(Cl)cc(Br)c2)N1   \n",
              "\n",
              "             class          MW     LogP  NumHDonors  NumHAcceptors  \\\n",
              "0           active  193.249000  2.78982         0.0            1.0   \n",
              "1     intermediate  195.265000  3.56042         0.0            1.0   \n",
              "2           active  243.326148  2.93622         0.0            2.0   \n",
              "3         inactive  355.434000  3.49160         3.0            3.0   \n",
              "4         inactive  327.380000  2.71140         3.0            3.0   \n",
              "...            ...         ...      ...         ...            ...   \n",
              "1967        active  333.435000  3.98980         0.0            3.0   \n",
              "1968        active  376.362000  4.28180         1.0            3.0   \n",
              "1969      inactive  409.461000  3.88580         0.0            6.0   \n",
              "1970      inactive  359.350000  0.77650         4.0            5.0   \n",
              "1971      inactive  363.664000  2.66270         2.0            3.0   \n",
              "\n",
              "      standard_value_norm  \n",
              "0                    36.0  \n",
              "1                  3000.0  \n",
              "2                    10.0  \n",
              "3                300000.0  \n",
              "4                300000.0  \n",
              "...                   ...  \n",
              "1967                477.0  \n",
              "1968                 27.0  \n",
              "1969              30000.0  \n",
              "1970              12500.0  \n",
              "1971              10000.0  \n",
              "\n",
              "[1972 rows x 8 columns]"
            ]
          },
          "execution_count": 27,
          "metadata": {},
          "output_type": "execute_result"
        }
      ],
      "source": [
        "df_norm = norm_value(df_combined)\n",
        "df_norm"
      ]
    },
    {
      "cell_type": "code",
      "execution_count": 28,
      "metadata": {
        "colab": {
          "base_uri": "https://localhost:8080/",
          "height": 170
        },
        "colab_type": "code",
        "id": "hb1eKrIjRiH9",
        "outputId": "8435d28b-9774-4567-8134-51bfc3fc8271"
      },
      "outputs": [
        {
          "data": {
            "text/plain": [
              "count    1.972000e+03\n",
              "mean     1.517794e+04\n",
              "std      2.290798e+05\n",
              "min      3.200000e-01\n",
              "25%      6.310000e+01\n",
              "50%      4.410000e+02\n",
              "75%      3.555000e+03\n",
              "max      1.000000e+07\n",
              "Name: standard_value_norm, dtype: float64"
            ]
          },
          "execution_count": 28,
          "metadata": {},
          "output_type": "execute_result"
        }
      ],
      "source": [
        "df_norm.standard_value_norm.describe()"
      ]
    },
    {
      "cell_type": "code",
      "execution_count": 29,
      "metadata": {
        "colab": {
          "base_uri": "https://localhost:8080/",
          "height": 419
        },
        "colab_type": "code",
        "id": "UDKZzmK57YnS",
        "outputId": "89ec9de3-c71e-44fb-86a5-3b4172cf9e63"
      },
      "outputs": [
        {
          "data": {
            "text/html": [
              "<div>\n",
              "<style scoped>\n",
              "    .dataframe tbody tr th:only-of-type {\n",
              "        vertical-align: middle;\n",
              "    }\n",
              "\n",
              "    .dataframe tbody tr th {\n",
              "        vertical-align: top;\n",
              "    }\n",
              "\n",
              "    .dataframe thead th {\n",
              "        text-align: right;\n",
              "    }\n",
              "</style>\n",
              "<table border=\"1\" class=\"dataframe\">\n",
              "  <thead>\n",
              "    <tr style=\"text-align: right;\">\n",
              "      <th></th>\n",
              "      <th>molecule_chembl_id</th>\n",
              "      <th>canonical_smiles</th>\n",
              "      <th>class</th>\n",
              "      <th>MW</th>\n",
              "      <th>LogP</th>\n",
              "      <th>NumHDonors</th>\n",
              "      <th>NumHAcceptors</th>\n",
              "      <th>pIC50</th>\n",
              "    </tr>\n",
              "  </thead>\n",
              "  <tbody>\n",
              "    <tr>\n",
              "      <th>0</th>\n",
              "      <td>CHEMBL66654</td>\n",
              "      <td>Cc1cccc(C#Cc2ccccc2)n1</td>\n",
              "      <td>active</td>\n",
              "      <td>193.249000</td>\n",
              "      <td>2.78982</td>\n",
              "      <td>0.0</td>\n",
              "      <td>1.0</td>\n",
              "      <td>-1.556303</td>\n",
              "    </tr>\n",
              "    <tr>\n",
              "      <th>1</th>\n",
              "      <td>CHEMBL88612</td>\n",
              "      <td>Cc1cccc(/C=C/c2ccccc2)n1</td>\n",
              "      <td>intermediate</td>\n",
              "      <td>195.265000</td>\n",
              "      <td>3.56042</td>\n",
              "      <td>0.0</td>\n",
              "      <td>1.0</td>\n",
              "      <td>-3.477121</td>\n",
              "    </tr>\n",
              "    <tr>\n",
              "      <th>2</th>\n",
              "      <td>CHEMBL2112677</td>\n",
              "      <td>[3H]C([3H])([3H])OCc1cccc(C#Cc2cccc(C)n2)c1</td>\n",
              "      <td>active</td>\n",
              "      <td>243.326148</td>\n",
              "      <td>2.93622</td>\n",
              "      <td>0.0</td>\n",
              "      <td>2.0</td>\n",
              "      <td>-1.000000</td>\n",
              "    </tr>\n",
              "    <tr>\n",
              "      <th>3</th>\n",
              "      <td>CHEMBL39338</td>\n",
              "      <td>N[C@@H](C[C@H](CCCC(c1ccccc1)c1ccccc1)C(=O)O)C...</td>\n",
              "      <td>inactive</td>\n",
              "      <td>355.434000</td>\n",
              "      <td>3.49160</td>\n",
              "      <td>3.0</td>\n",
              "      <td>3.0</td>\n",
              "      <td>-5.477121</td>\n",
              "    </tr>\n",
              "    <tr>\n",
              "      <th>4</th>\n",
              "      <td>CHEMBL40123</td>\n",
              "      <td>N[C@@H](C[C@H](CC(c1ccccc1)c1ccccc1)C(=O)O)C(=O)O</td>\n",
              "      <td>inactive</td>\n",
              "      <td>327.380000</td>\n",
              "      <td>2.71140</td>\n",
              "      <td>3.0</td>\n",
              "      <td>3.0</td>\n",
              "      <td>-5.477121</td>\n",
              "    </tr>\n",
              "    <tr>\n",
              "      <th>...</th>\n",
              "      <td>...</td>\n",
              "      <td>...</td>\n",
              "      <td>...</td>\n",
              "      <td>...</td>\n",
              "      <td>...</td>\n",
              "      <td>...</td>\n",
              "      <td>...</td>\n",
              "      <td>...</td>\n",
              "    </tr>\n",
              "    <tr>\n",
              "      <th>1967</th>\n",
              "      <td>CHEMBL4591221</td>\n",
              "      <td>CC(C)(C)c1cc2n(n1)CCN(C(=O)c1ccc3ccccc3c1)C2</td>\n",
              "      <td>active</td>\n",
              "      <td>333.435000</td>\n",
              "      <td>3.98980</td>\n",
              "      <td>0.0</td>\n",
              "      <td>3.0</td>\n",
              "      <td>-2.678518</td>\n",
              "    </tr>\n",
              "    <tr>\n",
              "      <th>1968</th>\n",
              "      <td>CHEMBL4572894</td>\n",
              "      <td>O=C1N[C@H](c2cncc(C#Cc3ccccc3)c2)[C@@H](c2c(F)...</td>\n",
              "      <td>active</td>\n",
              "      <td>376.362000</td>\n",
              "      <td>4.28180</td>\n",
              "      <td>1.0</td>\n",
              "      <td>3.0</td>\n",
              "      <td>-1.431364</td>\n",
              "    </tr>\n",
              "    <tr>\n",
              "      <th>1969</th>\n",
              "      <td>CHEMBL1527295</td>\n",
              "      <td>CCOC(=O)c1cnc2c(OC)cccc2c1N1CCN(c2ccccc2F)CC1</td>\n",
              "      <td>inactive</td>\n",
              "      <td>409.461000</td>\n",
              "      <td>3.88580</td>\n",
              "      <td>0.0</td>\n",
              "      <td>6.0</td>\n",
              "      <td>-4.477121</td>\n",
              "    </tr>\n",
              "    <tr>\n",
              "      <th>1970</th>\n",
              "      <td>CHEMBL4751065</td>\n",
              "      <td>Cl.N[C@]1(C(=O)O)[C@@H]2[C@@H](C(=O)O)[C@@H]2[...</td>\n",
              "      <td>inactive</td>\n",
              "      <td>359.350000</td>\n",
              "      <td>0.77650</td>\n",
              "      <td>4.0</td>\n",
              "      <td>5.0</td>\n",
              "      <td>-4.096910</td>\n",
              "    </tr>\n",
              "    <tr>\n",
              "      <th>1971</th>\n",
              "      <td>CHEMBL4758183</td>\n",
              "      <td>O=C1CCSC[C@@H](C(=O)Nc2cc(Cl)cc(Br)c2)N1</td>\n",
              "      <td>inactive</td>\n",
              "      <td>363.664000</td>\n",
              "      <td>2.66270</td>\n",
              "      <td>2.0</td>\n",
              "      <td>3.0</td>\n",
              "      <td>-4.000000</td>\n",
              "    </tr>\n",
              "  </tbody>\n",
              "</table>\n",
              "<p>1972 rows × 8 columns</p>\n",
              "</div>"
            ],
            "text/plain": [
              "     molecule_chembl_id                                   canonical_smiles  \\\n",
              "0           CHEMBL66654                             Cc1cccc(C#Cc2ccccc2)n1   \n",
              "1           CHEMBL88612                           Cc1cccc(/C=C/c2ccccc2)n1   \n",
              "2         CHEMBL2112677        [3H]C([3H])([3H])OCc1cccc(C#Cc2cccc(C)n2)c1   \n",
              "3           CHEMBL39338  N[C@@H](C[C@H](CCCC(c1ccccc1)c1ccccc1)C(=O)O)C...   \n",
              "4           CHEMBL40123  N[C@@H](C[C@H](CC(c1ccccc1)c1ccccc1)C(=O)O)C(=O)O   \n",
              "...                 ...                                                ...   \n",
              "1967      CHEMBL4591221       CC(C)(C)c1cc2n(n1)CCN(C(=O)c1ccc3ccccc3c1)C2   \n",
              "1968      CHEMBL4572894  O=C1N[C@H](c2cncc(C#Cc3ccccc3)c2)[C@@H](c2c(F)...   \n",
              "1969      CHEMBL1527295      CCOC(=O)c1cnc2c(OC)cccc2c1N1CCN(c2ccccc2F)CC1   \n",
              "1970      CHEMBL4751065  Cl.N[C@]1(C(=O)O)[C@@H]2[C@@H](C(=O)O)[C@@H]2[...   \n",
              "1971      CHEMBL4758183           O=C1CCSC[C@@H](C(=O)Nc2cc(Cl)cc(Br)c2)N1   \n",
              "\n",
              "             class          MW     LogP  NumHDonors  NumHAcceptors     pIC50  \n",
              "0           active  193.249000  2.78982         0.0            1.0 -1.556303  \n",
              "1     intermediate  195.265000  3.56042         0.0            1.0 -3.477121  \n",
              "2           active  243.326148  2.93622         0.0            2.0 -1.000000  \n",
              "3         inactive  355.434000  3.49160         3.0            3.0 -5.477121  \n",
              "4         inactive  327.380000  2.71140         3.0            3.0 -5.477121  \n",
              "...            ...         ...      ...         ...            ...       ...  \n",
              "1967        active  333.435000  3.98980         0.0            3.0 -2.678518  \n",
              "1968        active  376.362000  4.28180         1.0            3.0 -1.431364  \n",
              "1969      inactive  409.461000  3.88580         0.0            6.0 -4.477121  \n",
              "1970      inactive  359.350000  0.77650         4.0            5.0 -4.096910  \n",
              "1971      inactive  363.664000  2.66270         2.0            3.0 -4.000000  \n",
              "\n",
              "[1972 rows x 8 columns]"
            ]
          },
          "execution_count": 29,
          "metadata": {},
          "output_type": "execute_result"
        }
      ],
      "source": [
        "df_final = pIC50(df_norm)\n",
        "df_final"
      ]
    },
    {
      "cell_type": "code",
      "execution_count": 30,
      "metadata": {
        "colab": {
          "base_uri": "https://localhost:8080/",
          "height": 170
        },
        "colab_type": "code",
        "id": "BoqY53udSTYC",
        "outputId": "13f3b5ff-acf5-4136-b8a3-f494066d4824"
      },
      "outputs": [
        {
          "data": {
            "text/plain": [
              "count    1972.000000\n",
              "mean       -2.669252\n",
              "std         1.189510\n",
              "min        -7.000000\n",
              "25%        -3.550828\n",
              "50%        -2.644437\n",
              "75%        -1.800029\n",
              "max         0.494850\n",
              "Name: pIC50, dtype: float64"
            ]
          },
          "execution_count": 30,
          "metadata": {},
          "output_type": "execute_result"
        }
      ],
      "source": [
        "df_final.pIC50.describe()"
      ]
    },
    {
      "cell_type": "markdown",
      "metadata": {
        "colab_type": "text",
        "id": "TTB-xkOcgwRX"
      },
      "source": [
        "Let's write this to CSV file."
      ]
    },
    {
      "cell_type": "code",
      "execution_count": 31,
      "metadata": {
        "colab": {},
        "colab_type": "code",
        "id": "sbZfHUSOgykw"
      },
      "outputs": [],
      "source": [
        "df_final.to_csv('MgluR5_04_bioactivity_data_3class_pIC50.csv')"
      ]
    },
    {
      "cell_type": "markdown",
      "metadata": {
        "colab_type": "text",
        "id": "05vHBWvqaQtb"
      },
      "source": [
        "### **Removing the 'intermediate' bioactivity class**\n",
        "Here, we will be removing the ``intermediate`` class from our data set."
      ]
    },
    {
      "cell_type": "code",
      "execution_count": 32,
      "metadata": {
        "colab": {
          "base_uri": "https://localhost:8080/",
          "height": 419
        },
        "colab_type": "code",
        "id": "HmrndhDW3c7Z",
        "outputId": "dbc2255b-ed9c-460c-c12c-1795a735c9e7"
      },
      "outputs": [
        {
          "data": {
            "text/html": [
              "<div>\n",
              "<style scoped>\n",
              "    .dataframe tbody tr th:only-of-type {\n",
              "        vertical-align: middle;\n",
              "    }\n",
              "\n",
              "    .dataframe tbody tr th {\n",
              "        vertical-align: top;\n",
              "    }\n",
              "\n",
              "    .dataframe thead th {\n",
              "        text-align: right;\n",
              "    }\n",
              "</style>\n",
              "<table border=\"1\" class=\"dataframe\">\n",
              "  <thead>\n",
              "    <tr style=\"text-align: right;\">\n",
              "      <th></th>\n",
              "      <th>molecule_chembl_id</th>\n",
              "      <th>canonical_smiles</th>\n",
              "      <th>class</th>\n",
              "      <th>MW</th>\n",
              "      <th>LogP</th>\n",
              "      <th>NumHDonors</th>\n",
              "      <th>NumHAcceptors</th>\n",
              "      <th>pIC50</th>\n",
              "    </tr>\n",
              "  </thead>\n",
              "  <tbody>\n",
              "    <tr>\n",
              "      <th>0</th>\n",
              "      <td>CHEMBL66654</td>\n",
              "      <td>Cc1cccc(C#Cc2ccccc2)n1</td>\n",
              "      <td>active</td>\n",
              "      <td>193.249000</td>\n",
              "      <td>2.78982</td>\n",
              "      <td>0.0</td>\n",
              "      <td>1.0</td>\n",
              "      <td>-1.556303</td>\n",
              "    </tr>\n",
              "    <tr>\n",
              "      <th>2</th>\n",
              "      <td>CHEMBL2112677</td>\n",
              "      <td>[3H]C([3H])([3H])OCc1cccc(C#Cc2cccc(C)n2)c1</td>\n",
              "      <td>active</td>\n",
              "      <td>243.326148</td>\n",
              "      <td>2.93622</td>\n",
              "      <td>0.0</td>\n",
              "      <td>2.0</td>\n",
              "      <td>-1.000000</td>\n",
              "    </tr>\n",
              "    <tr>\n",
              "      <th>3</th>\n",
              "      <td>CHEMBL39338</td>\n",
              "      <td>N[C@@H](C[C@H](CCCC(c1ccccc1)c1ccccc1)C(=O)O)C...</td>\n",
              "      <td>inactive</td>\n",
              "      <td>355.434000</td>\n",
              "      <td>3.49160</td>\n",
              "      <td>3.0</td>\n",
              "      <td>3.0</td>\n",
              "      <td>-5.477121</td>\n",
              "    </tr>\n",
              "    <tr>\n",
              "      <th>4</th>\n",
              "      <td>CHEMBL40123</td>\n",
              "      <td>N[C@@H](C[C@H](CC(c1ccccc1)c1ccccc1)C(=O)O)C(=O)O</td>\n",
              "      <td>inactive</td>\n",
              "      <td>327.380000</td>\n",
              "      <td>2.71140</td>\n",
              "      <td>3.0</td>\n",
              "      <td>3.0</td>\n",
              "      <td>-5.477121</td>\n",
              "    </tr>\n",
              "    <tr>\n",
              "      <th>5</th>\n",
              "      <td>CHEMBL97574</td>\n",
              "      <td>C[C@@H]1[C@H](C(=O)O)[C@H]1C(N)(CC1c2ccccc2Oc2...</td>\n",
              "      <td>inactive</td>\n",
              "      <td>367.401000</td>\n",
              "      <td>3.06310</td>\n",
              "      <td>3.0</td>\n",
              "      <td>4.0</td>\n",
              "      <td>-5.000000</td>\n",
              "    </tr>\n",
              "    <tr>\n",
              "      <th>...</th>\n",
              "      <td>...</td>\n",
              "      <td>...</td>\n",
              "      <td>...</td>\n",
              "      <td>...</td>\n",
              "      <td>...</td>\n",
              "      <td>...</td>\n",
              "      <td>...</td>\n",
              "      <td>...</td>\n",
              "    </tr>\n",
              "    <tr>\n",
              "      <th>1967</th>\n",
              "      <td>CHEMBL4591221</td>\n",
              "      <td>CC(C)(C)c1cc2n(n1)CCN(C(=O)c1ccc3ccccc3c1)C2</td>\n",
              "      <td>active</td>\n",
              "      <td>333.435000</td>\n",
              "      <td>3.98980</td>\n",
              "      <td>0.0</td>\n",
              "      <td>3.0</td>\n",
              "      <td>-2.678518</td>\n",
              "    </tr>\n",
              "    <tr>\n",
              "      <th>1968</th>\n",
              "      <td>CHEMBL4572894</td>\n",
              "      <td>O=C1N[C@H](c2cncc(C#Cc3ccccc3)c2)[C@@H](c2c(F)...</td>\n",
              "      <td>active</td>\n",
              "      <td>376.362000</td>\n",
              "      <td>4.28180</td>\n",
              "      <td>1.0</td>\n",
              "      <td>3.0</td>\n",
              "      <td>-1.431364</td>\n",
              "    </tr>\n",
              "    <tr>\n",
              "      <th>1969</th>\n",
              "      <td>CHEMBL1527295</td>\n",
              "      <td>CCOC(=O)c1cnc2c(OC)cccc2c1N1CCN(c2ccccc2F)CC1</td>\n",
              "      <td>inactive</td>\n",
              "      <td>409.461000</td>\n",
              "      <td>3.88580</td>\n",
              "      <td>0.0</td>\n",
              "      <td>6.0</td>\n",
              "      <td>-4.477121</td>\n",
              "    </tr>\n",
              "    <tr>\n",
              "      <th>1970</th>\n",
              "      <td>CHEMBL4751065</td>\n",
              "      <td>Cl.N[C@]1(C(=O)O)[C@@H]2[C@@H](C(=O)O)[C@@H]2[...</td>\n",
              "      <td>inactive</td>\n",
              "      <td>359.350000</td>\n",
              "      <td>0.77650</td>\n",
              "      <td>4.0</td>\n",
              "      <td>5.0</td>\n",
              "      <td>-4.096910</td>\n",
              "    </tr>\n",
              "    <tr>\n",
              "      <th>1971</th>\n",
              "      <td>CHEMBL4758183</td>\n",
              "      <td>O=C1CCSC[C@@H](C(=O)Nc2cc(Cl)cc(Br)c2)N1</td>\n",
              "      <td>inactive</td>\n",
              "      <td>363.664000</td>\n",
              "      <td>2.66270</td>\n",
              "      <td>2.0</td>\n",
              "      <td>3.0</td>\n",
              "      <td>-4.000000</td>\n",
              "    </tr>\n",
              "  </tbody>\n",
              "</table>\n",
              "<p>1611 rows × 8 columns</p>\n",
              "</div>"
            ],
            "text/plain": [
              "     molecule_chembl_id                                   canonical_smiles  \\\n",
              "0           CHEMBL66654                             Cc1cccc(C#Cc2ccccc2)n1   \n",
              "2         CHEMBL2112677        [3H]C([3H])([3H])OCc1cccc(C#Cc2cccc(C)n2)c1   \n",
              "3           CHEMBL39338  N[C@@H](C[C@H](CCCC(c1ccccc1)c1ccccc1)C(=O)O)C...   \n",
              "4           CHEMBL40123  N[C@@H](C[C@H](CC(c1ccccc1)c1ccccc1)C(=O)O)C(=O)O   \n",
              "5           CHEMBL97574  C[C@@H]1[C@H](C(=O)O)[C@H]1C(N)(CC1c2ccccc2Oc2...   \n",
              "...                 ...                                                ...   \n",
              "1967      CHEMBL4591221       CC(C)(C)c1cc2n(n1)CCN(C(=O)c1ccc3ccccc3c1)C2   \n",
              "1968      CHEMBL4572894  O=C1N[C@H](c2cncc(C#Cc3ccccc3)c2)[C@@H](c2c(F)...   \n",
              "1969      CHEMBL1527295      CCOC(=O)c1cnc2c(OC)cccc2c1N1CCN(c2ccccc2F)CC1   \n",
              "1970      CHEMBL4751065  Cl.N[C@]1(C(=O)O)[C@@H]2[C@@H](C(=O)O)[C@@H]2[...   \n",
              "1971      CHEMBL4758183           O=C1CCSC[C@@H](C(=O)Nc2cc(Cl)cc(Br)c2)N1   \n",
              "\n",
              "         class          MW     LogP  NumHDonors  NumHAcceptors     pIC50  \n",
              "0       active  193.249000  2.78982         0.0            1.0 -1.556303  \n",
              "2       active  243.326148  2.93622         0.0            2.0 -1.000000  \n",
              "3     inactive  355.434000  3.49160         3.0            3.0 -5.477121  \n",
              "4     inactive  327.380000  2.71140         3.0            3.0 -5.477121  \n",
              "5     inactive  367.401000  3.06310         3.0            4.0 -5.000000  \n",
              "...        ...         ...      ...         ...            ...       ...  \n",
              "1967    active  333.435000  3.98980         0.0            3.0 -2.678518  \n",
              "1968    active  376.362000  4.28180         1.0            3.0 -1.431364  \n",
              "1969  inactive  409.461000  3.88580         0.0            6.0 -4.477121  \n",
              "1970  inactive  359.350000  0.77650         4.0            5.0 -4.096910  \n",
              "1971  inactive  363.664000  2.66270         2.0            3.0 -4.000000  \n",
              "\n",
              "[1611 rows x 8 columns]"
            ]
          },
          "execution_count": 32,
          "metadata": {},
          "output_type": "execute_result"
        }
      ],
      "source": [
        "df_2class = df_final[df_final['class'] != 'intermediate']\n",
        "df_2class"
      ]
    },
    {
      "cell_type": "markdown",
      "metadata": {
        "colab_type": "text",
        "id": "GJGRNXXigd1o"
      },
      "source": [
        "Let's write this to CSV file."
      ]
    },
    {
      "cell_type": "code",
      "execution_count": 33,
      "metadata": {
        "colab": {},
        "colab_type": "code",
        "id": "XIiYdeL5ghCo"
      },
      "outputs": [],
      "source": [
        "df_2class.to_csv('MgluR5_05_bioactivity_data_2class_pIC50.csv')"
      ]
    },
    {
      "cell_type": "markdown",
      "metadata": {
        "colab_type": "text",
        "id": "p9vA4-hQQ8sA"
      },
      "source": [
        "---"
      ]
    },
    {
      "cell_type": "markdown",
      "metadata": {
        "colab_type": "text",
        "id": "x0vqbQWfxsZu"
      },
      "source": [
        "## **Exploratory Data Analysis (Chemical Space Analysis) via Lipinski descriptors**"
      ]
    },
    {
      "cell_type": "markdown",
      "metadata": {
        "colab_type": "text",
        "id": "18heJagiyHoF"
      },
      "source": [
        "### **Import library**"
      ]
    },
    {
      "cell_type": "code",
      "execution_count": 34,
      "metadata": {
        "colab": {
          "base_uri": "https://localhost:8080/",
          "height": 51
        },
        "colab_type": "code",
        "id": "0Egq_rNsxtIj",
        "outputId": "33657ad8-3fcc-41cd-83ab-6f4f8c0a9e84"
      },
      "outputs": [],
      "source": [
        "import seaborn as sns\n",
        "sns.set(style='ticks')\n",
        "import matplotlib.pyplot as plt"
      ]
    },
    {
      "cell_type": "markdown",
      "metadata": {
        "colab_type": "text",
        "id": "NiarmFbOdG3H"
      },
      "source": [
        "### **Frequency plot of the 2 bioactivity classes**"
      ]
    },
    {
      "cell_type": "code",
      "execution_count": 35,
      "metadata": {
        "colab": {
          "base_uri": "https://localhost:8080/",
          "height": 367
        },
        "colab_type": "code",
        "id": "w2Ia0iycdMO2",
        "outputId": "fa37bcfd-af06-4e4b-c754-b6fb2b1b4f97"
      },
      "outputs": [
        {
          "data": {
            "image/png": "[encoded data removed]",
            "text/plain": [
              "<Figure size 550x550 with 1 Axes>"
            ]
          },
          "metadata": {},
          "output_type": "display_data"
        }
      ],
      "source": [
        "plt.figure(figsize=(5.5, 5.5))\n",
        "\n",
        "sns.countplot(x='class', data=df_2class, edgecolor='black')\n",
        "\n",
        "plt.xlabel('Bioactivity class', fontsize=14, fontweight='bold')\n",
        "plt.ylabel('Frequency', fontsize=14, fontweight='bold')\n",
        "\n",
        "plt.savefig('plot_bioactivity_class.pdf')"
      ]
    },
    {
      "cell_type": "markdown",
      "metadata": {
        "colab_type": "text",
        "id": "wB68NKVG0j68"
      },
      "source": [
        "### **Scatter plot of MW versus LogP**\n",
        "\n",
        "It can be seen that the 2 bioactivity classes are spanning similar chemical spaces as evident by the scatter plot of MW vs LogP."
      ]
    },
    {
      "cell_type": "code",
      "execution_count": 36,
      "metadata": {
        "colab": {
          "base_uri": "https://localhost:8080/",
          "height": 367
        },
        "colab_type": "code",
        "id": "F79BNwjF0nub",
        "outputId": "a80f9843-848a-4eb0-ff78-e9473d5d2d4b"
      },
      "outputs": [
        {
          "data": {
            "image/png": "[encoded data removed]",
            "text/plain": [
              "<Figure size 550x550 with 1 Axes>"
            ]
          },
          "metadata": {},
          "output_type": "display_data"
        }
      ],
      "source": [
        "plt.figure(figsize=(5.5, 5.5))\n",
        "\n",
        "sns.scatterplot(x='MW', y='LogP', data=df_2class, hue='class', size='pIC50', edgecolor='black', alpha=0.7)\n",
        "\n",
        "plt.xlabel('MW', fontsize=14, fontweight='bold')\n",
        "plt.ylabel('LogP', fontsize=14, fontweight='bold')\n",
        "plt.legend(bbox_to_anchor=(1.05, 1), loc=2, borderaxespad=0)\n",
        "plt.savefig('plot_MW_vs_LogP.pdf')"
      ]
    },
    {
      "cell_type": "markdown",
      "metadata": {
        "colab_type": "text",
        "id": "oLAfyRwHyJfX"
      },
      "source": [
        "### **Box plots**"
      ]
    },
    {
      "cell_type": "markdown",
      "metadata": {
        "colab_type": "text",
        "id": "1n1uIAivyOkY"
      },
      "source": [
        "#### **pIC50 value**"
      ]
    },
    {
      "cell_type": "code",
      "execution_count": 37,
      "metadata": {
        "colab": {
          "base_uri": "https://localhost:8080/",
          "height": 367
        },
        "colab_type": "code",
        "id": "EpPviw0hxue6",
        "outputId": "a6386fee-ae04-4bf0-93cb-c95bcf801432"
      },
      "outputs": [
        {
          "data": {
            "image/png": "[encoded data removed]",
            "text/plain": [
              "<Figure size 550x550 with 1 Axes>"
            ]
          },
          "metadata": {},
          "output_type": "display_data"
        }
      ],
      "source": [
        "plt.figure(figsize=(5.5, 5.5))\n",
        "\n",
        "sns.boxplot(x = 'class', y = 'pIC50', data = df_2class)\n",
        "\n",
        "plt.xlabel('Bioactivity class', fontsize=14, fontweight='bold')\n",
        "plt.ylabel('pIC50 value', fontsize=14, fontweight='bold')\n",
        "\n",
        "plt.savefig('plot_ic50.pdf')"
      ]
    },
    {
      "cell_type": "markdown",
      "metadata": {
        "colab_type": "text",
        "id": "PsOqKyysCZCv"
      },
      "source": [
        "**Statistical analysis | Mann-Whitney U Test**"
      ]
    },
    {
      "cell_type": "code",
      "execution_count": 38,
      "metadata": {
        "colab": {},
        "colab_type": "code",
        "id": "LPdV1vDnWBsh"
      },
      "outputs": [],
      "source": [
        "def mannwhitney(descriptor, verbose=False):\n",
        "  # https://machinelearningmastery.com/nonparametric-statistical-significance-tests-in-python/\n",
        "  from numpy.random import seed\n",
        "  from numpy.random import randn\n",
        "  from scipy.stats import mannwhitneyu\n",
        "\n",
        "# seed the random number generator\n",
        "  seed(1)\n",
        "\n",
        "# actives and inactives\n",
        "  selection = [descriptor, 'class']\n",
        "  df = df_2class[selection]\n",
        "  active = df[df['class'] == 'active']\n",
        "  active = active[descriptor]\n",
        "\n",
        "  selection = [descriptor, 'class']\n",
        "  df = df_2class[selection]\n",
        "  inactive = df[df['class'] == 'inactive']\n",
        "  inactive = inactive[descriptor]\n",
        "\n",
        "# compare samples\n",
        "  stat, p = mannwhitneyu(active, inactive)\n",
        "  #print('Statistics=%.3f, p=%.3f' % (stat, p))\n",
        "\n",
        "# interpret\n",
        "  alpha = 0.05\n",
        "  if p > alpha:\n",
        "    interpretation = 'Same distribution (fail to reject H0)'\n",
        "  else:\n",
        "    interpretation = 'Different distribution (reject H0)'\n",
        "  \n",
        "  results = pd.DataFrame({'Descriptor':descriptor,\n",
        "                          'Statistics':stat,\n",
        "                          'p':p,\n",
        "                          'alpha':alpha,\n",
        "                          'Interpretation':interpretation}, index=[0])\n",
        "  filename = 'mannwhitneyu_' + descriptor + '.csv'\n",
        "  results.to_csv(filename)\n",
        "\n",
        "  return results"
      ]
    },
    {
      "cell_type": "code",
      "execution_count": 39,
      "metadata": {
        "colab": {
          "base_uri": "https://localhost:8080/",
          "height": 80
        },
        "colab_type": "code",
        "id": "HZmUgOmdYVm5",
        "outputId": "3a9ba656-596c-434a-e52f-5696325cd4e7"
      },
      "outputs": [
        {
          "data": {
            "text/html": [
              "<div>\n",
              "<style scoped>\n",
              "    .dataframe tbody tr th:only-of-type {\n",
              "        vertical-align: middle;\n",
              "    }\n",
              "\n",
              "    .dataframe tbody tr th {\n",
              "        vertical-align: top;\n",
              "    }\n",
              "\n",
              "    .dataframe thead th {\n",
              "        text-align: right;\n",
              "    }\n",
              "</style>\n",
              "<table border=\"1\" class=\"dataframe\">\n",
              "  <thead>\n",
              "    <tr style=\"text-align: right;\">\n",
              "      <th></th>\n",
              "      <th>Descriptor</th>\n",
              "      <th>Statistics</th>\n",
              "      <th>p</th>\n",
              "      <th>alpha</th>\n",
              "      <th>Interpretation</th>\n",
              "    </tr>\n",
              "  </thead>\n",
              "  <tbody>\n",
              "    <tr>\n",
              "      <th>0</th>\n",
              "      <td>pIC50</td>\n",
              "      <td>480320.0</td>\n",
              "      <td>5.209009e-197</td>\n",
              "      <td>0.05</td>\n",
              "      <td>Different distribution (reject H0)</td>\n",
              "    </tr>\n",
              "  </tbody>\n",
              "</table>\n",
              "</div>"
            ],
            "text/plain": [
              "  Descriptor  Statistics              p  alpha  \\\n",
              "0      pIC50    480320.0  5.209009e-197   0.05   \n",
              "\n",
              "                       Interpretation  \n",
              "0  Different distribution (reject H0)  "
            ]
          },
          "execution_count": 39,
          "metadata": {},
          "output_type": "execute_result"
        }
      ],
      "source": [
        "mannwhitney('pIC50')"
      ]
    },
    {
      "cell_type": "markdown",
      "metadata": {
        "colab_type": "text",
        "id": "o2UlCwPmyTBq"
      },
      "source": [
        "#### **MW**"
      ]
    },
    {
      "cell_type": "code",
      "execution_count": 40,
      "metadata": {
        "colab": {
          "base_uri": "https://localhost:8080/",
          "height": 370
        },
        "colab_type": "code",
        "id": "ZNlEEsDEx3m6",
        "outputId": "819f291c-d893-4ff6-f4ca-28b46351e999"
      },
      "outputs": [
        {
          "data": {
            "image/png": "[encoded data removed]",
            "text/plain": [
              "<Figure size 550x550 with 1 Axes>"
            ]
          },
          "metadata": {},
          "output_type": "display_data"
        }
      ],
      "source": [
        "plt.figure(figsize=(5.5, 5.5))\n",
        "\n",
        "sns.boxplot(x = 'class', y = 'MW', data = df_2class)\n",
        "\n",
        "plt.xlabel('Bioactivity class', fontsize=14, fontweight='bold')\n",
        "plt.ylabel('MW', fontsize=14, fontweight='bold')\n",
        "\n",
        "plt.savefig('plot_MW.pdf')"
      ]
    },
    {
      "cell_type": "code",
      "execution_count": 41,
      "metadata": {
        "colab": {
          "base_uri": "https://localhost:8080/",
          "height": 80
        },
        "colab_type": "code",
        "id": "wRl2FvgHYqaG",
        "outputId": "01f76db8-fdaf-40af-9161-888f5065b07b"
      },
      "outputs": [
        {
          "data": {
            "text/html": [
              "<div>\n",
              "<style scoped>\n",
              "    .dataframe tbody tr th:only-of-type {\n",
              "        vertical-align: middle;\n",
              "    }\n",
              "\n",
              "    .dataframe tbody tr th {\n",
              "        vertical-align: top;\n",
              "    }\n",
              "\n",
              "    .dataframe thead th {\n",
              "        text-align: right;\n",
              "    }\n",
              "</style>\n",
              "<table border=\"1\" class=\"dataframe\">\n",
              "  <thead>\n",
              "    <tr style=\"text-align: right;\">\n",
              "      <th></th>\n",
              "      <th>Descriptor</th>\n",
              "      <th>Statistics</th>\n",
              "      <th>p</th>\n",
              "      <th>alpha</th>\n",
              "      <th>Interpretation</th>\n",
              "    </tr>\n",
              "  </thead>\n",
              "  <tbody>\n",
              "    <tr>\n",
              "      <th>0</th>\n",
              "      <td>MW</td>\n",
              "      <td>250063.5</td>\n",
              "      <td>0.217632</td>\n",
              "      <td>0.05</td>\n",
              "      <td>Same distribution (fail to reject H0)</td>\n",
              "    </tr>\n",
              "  </tbody>\n",
              "</table>\n",
              "</div>"
            ],
            "text/plain": [
              "  Descriptor  Statistics         p  alpha  \\\n",
              "0         MW    250063.5  0.217632   0.05   \n",
              "\n",
              "                          Interpretation  \n",
              "0  Same distribution (fail to reject H0)  "
            ]
          },
          "execution_count": 41,
          "metadata": {},
          "output_type": "execute_result"
        }
      ],
      "source": [
        "mannwhitney('MW')"
      ]
    },
    {
      "cell_type": "markdown",
      "metadata": {
        "colab_type": "text",
        "id": "z5hyBhGqyc6J"
      },
      "source": [
        "#### **LogP**"
      ]
    },
    {
      "cell_type": "code",
      "execution_count": 42,
      "metadata": {
        "colab": {
          "base_uri": "https://localhost:8080/",
          "height": 367
        },
        "colab_type": "code",
        "id": "liEtkpI4yX9t",
        "outputId": "63ed7b14-b112-44d5-8f0d-8fe017ec0d43"
      },
      "outputs": [
        {
          "data": {
            "image/png": "[encoded data removed]",
            "text/plain": [
              "<Figure size 550x550 with 1 Axes>"
            ]
          },
          "metadata": {},
          "output_type": "display_data"
        }
      ],
      "source": [
        "plt.figure(figsize=(5.5, 5.5))\n",
        "\n",
        "sns.boxplot(x = 'class', y = 'LogP', data = df_2class)\n",
        "\n",
        "plt.xlabel('Bioactivity class', fontsize=14, fontweight='bold')\n",
        "plt.ylabel('LogP', fontsize=14, fontweight='bold')\n",
        "\n",
        "plt.savefig('plot_LogP.pdf')"
      ]
    },
    {
      "cell_type": "markdown",
      "metadata": {
        "colab_type": "text",
        "id": "2KgV5v_oFLXh"
      },
      "source": [
        "**Statistical analysis | Mann-Whitney U Test**"
      ]
    },
    {
      "cell_type": "code",
      "execution_count": 43,
      "metadata": {
        "colab": {
          "base_uri": "https://localhost:8080/",
          "height": 80
        },
        "colab_type": "code",
        "id": "B61UsGMIFLuE",
        "outputId": "3fd097e7-7a4a-4c6e-bc0c-af010caac7b2"
      },
      "outputs": [
        {
          "data": {
            "text/html": [
              "<div>\n",
              "<style scoped>\n",
              "    .dataframe tbody tr th:only-of-type {\n",
              "        vertical-align: middle;\n",
              "    }\n",
              "\n",
              "    .dataframe tbody tr th {\n",
              "        vertical-align: top;\n",
              "    }\n",
              "\n",
              "    .dataframe thead th {\n",
              "        text-align: right;\n",
              "    }\n",
              "</style>\n",
              "<table border=\"1\" class=\"dataframe\">\n",
              "  <thead>\n",
              "    <tr style=\"text-align: right;\">\n",
              "      <th></th>\n",
              "      <th>Descriptor</th>\n",
              "      <th>Statistics</th>\n",
              "      <th>p</th>\n",
              "      <th>alpha</th>\n",
              "      <th>Interpretation</th>\n",
              "    </tr>\n",
              "  </thead>\n",
              "  <tbody>\n",
              "    <tr>\n",
              "      <th>0</th>\n",
              "      <td>LogP</td>\n",
              "      <td>243029.5</td>\n",
              "      <td>0.720965</td>\n",
              "      <td>0.05</td>\n",
              "      <td>Same distribution (fail to reject H0)</td>\n",
              "    </tr>\n",
              "  </tbody>\n",
              "</table>\n",
              "</div>"
            ],
            "text/plain": [
              "  Descriptor  Statistics         p  alpha  \\\n",
              "0       LogP    243029.5  0.720965   0.05   \n",
              "\n",
              "                          Interpretation  \n",
              "0  Same distribution (fail to reject H0)  "
            ]
          },
          "execution_count": 43,
          "metadata": {},
          "output_type": "execute_result"
        }
      ],
      "source": [
        "mannwhitney('LogP')"
      ]
    },
    {
      "cell_type": "markdown",
      "metadata": {
        "colab_type": "text",
        "id": "4db7LZLRym2k"
      },
      "source": [
        "#### **NumHDonors**"
      ]
    },
    {
      "cell_type": "code",
      "execution_count": 44,
      "metadata": {
        "colab": {
          "base_uri": "https://localhost:8080/",
          "height": 367
        },
        "colab_type": "code",
        "id": "iru1JPM1yg5A",
        "outputId": "838b8622-b34a-4f93-bec1-9df19fc9f571"
      },
      "outputs": [
        {
          "data": {
            "image/png": "[encoded data removed]",
            "text/plain": [
              "<Figure size 550x550 with 1 Axes>"
            ]
          },
          "metadata": {},
          "output_type": "display_data"
        }
      ],
      "source": [
        "plt.figure(figsize=(5.5, 5.5))\n",
        "\n",
        "sns.boxplot(x = 'class', y = 'NumHDonors', data = df_2class)\n",
        "\n",
        "plt.xlabel('Bioactivity class', fontsize=14, fontweight='bold')\n",
        "plt.ylabel('NumHDonors', fontsize=14, fontweight='bold')\n",
        "\n",
        "plt.savefig('plot_NumHDonors.pdf')"
      ]
    },
    {
      "cell_type": "markdown",
      "metadata": {
        "colab_type": "text",
        "id": "vM5vZWanFe3c"
      },
      "source": [
        "**Statistical analysis | Mann-Whitney U Test**"
      ]
    },
    {
      "cell_type": "code",
      "execution_count": 45,
      "metadata": {
        "colab": {
          "base_uri": "https://localhost:8080/",
          "height": 80
        },
        "colab_type": "code",
        "id": "mS-rOqq7Fd1E",
        "outputId": "d6e88523-ae95-4298-8550-f840fd8b5a36"
      },
      "outputs": [
        {
          "data": {
            "text/html": [
              "<div>\n",
              "<style scoped>\n",
              "    .dataframe tbody tr th:only-of-type {\n",
              "        vertical-align: middle;\n",
              "    }\n",
              "\n",
              "    .dataframe tbody tr th {\n",
              "        vertical-align: top;\n",
              "    }\n",
              "\n",
              "    .dataframe thead th {\n",
              "        text-align: right;\n",
              "    }\n",
              "</style>\n",
              "<table border=\"1\" class=\"dataframe\">\n",
              "  <thead>\n",
              "    <tr style=\"text-align: right;\">\n",
              "      <th></th>\n",
              "      <th>Descriptor</th>\n",
              "      <th>Statistics</th>\n",
              "      <th>p</th>\n",
              "      <th>alpha</th>\n",
              "      <th>Interpretation</th>\n",
              "    </tr>\n",
              "  </thead>\n",
              "  <tbody>\n",
              "    <tr>\n",
              "      <th>0</th>\n",
              "      <td>NumHDonors</td>\n",
              "      <td>220141.5</td>\n",
              "      <td>0.005032</td>\n",
              "      <td>0.05</td>\n",
              "      <td>Different distribution (reject H0)</td>\n",
              "    </tr>\n",
              "  </tbody>\n",
              "</table>\n",
              "</div>"
            ],
            "text/plain": [
              "   Descriptor  Statistics         p  alpha                      Interpretation\n",
              "0  NumHDonors    220141.5  0.005032   0.05  Different distribution (reject H0)"
            ]
          },
          "execution_count": 45,
          "metadata": {},
          "output_type": "execute_result"
        }
      ],
      "source": [
        "mannwhitney('NumHDonors')"
      ]
    },
    {
      "cell_type": "markdown",
      "metadata": {
        "colab_type": "text",
        "id": "yOYQ3QiSyu7-"
      },
      "source": [
        "#### **NumHAcceptors**"
      ]
    },
    {
      "cell_type": "code",
      "execution_count": 46,
      "metadata": {
        "colab": {
          "base_uri": "https://localhost:8080/",
          "height": 367
        },
        "colab_type": "code",
        "id": "yCw6tgNCyxHf",
        "outputId": "3de01d96-1e31-4f95-8084-907f15901106"
      },
      "outputs": [
        {
          "data": {
            "image/png": "[encoded data removed]",
            "text/plain": [
              "<Figure size 550x550 with 1 Axes>"
            ]
          },
          "metadata": {},
          "output_type": "display_data"
        }
      ],
      "source": [
        "plt.figure(figsize=(5.5, 5.5))\n",
        "\n",
        "sns.boxplot(x = 'class', y = 'NumHAcceptors', data = df_2class)\n",
        "\n",
        "plt.xlabel('Bioactivity class', fontsize=14, fontweight='bold')\n",
        "plt.ylabel('NumHAcceptors', fontsize=14, fontweight='bold')\n",
        "\n",
        "plt.savefig('plot_NumHAcceptors.pdf')"
      ]
    },
    {
      "cell_type": "code",
      "execution_count": 47,
      "metadata": {
        "colab": {
          "base_uri": "https://localhost:8080/",
          "height": 80
        },
        "colab_type": "code",
        "id": "NEQoDZctFtGG",
        "outputId": "417d0d17-81f6-438f-dae4-70083b319b85"
      },
      "outputs": [
        {
          "data": {
            "text/html": [
              "<div>\n",
              "<style scoped>\n",
              "    .dataframe tbody tr th:only-of-type {\n",
              "        vertical-align: middle;\n",
              "    }\n",
              "\n",
              "    .dataframe tbody tr th {\n",
              "        vertical-align: top;\n",
              "    }\n",
              "\n",
              "    .dataframe thead th {\n",
              "        text-align: right;\n",
              "    }\n",
              "</style>\n",
              "<table border=\"1\" class=\"dataframe\">\n",
              "  <thead>\n",
              "    <tr style=\"text-align: right;\">\n",
              "      <th></th>\n",
              "      <th>Descriptor</th>\n",
              "      <th>Statistics</th>\n",
              "      <th>p</th>\n",
              "      <th>alpha</th>\n",
              "      <th>Interpretation</th>\n",
              "    </tr>\n",
              "  </thead>\n",
              "  <tbody>\n",
              "    <tr>\n",
              "      <th>0</th>\n",
              "      <td>NumHAcceptors</td>\n",
              "      <td>253355.5</td>\n",
              "      <td>0.093139</td>\n",
              "      <td>0.05</td>\n",
              "      <td>Same distribution (fail to reject H0)</td>\n",
              "    </tr>\n",
              "  </tbody>\n",
              "</table>\n",
              "</div>"
            ],
            "text/plain": [
              "      Descriptor  Statistics         p  alpha  \\\n",
              "0  NumHAcceptors    253355.5  0.093139   0.05   \n",
              "\n",
              "                          Interpretation  \n",
              "0  Same distribution (fail to reject H0)  "
            ]
          },
          "execution_count": 47,
          "metadata": {},
          "output_type": "execute_result"
        }
      ],
      "source": [
        "mannwhitney('NumHAcceptors')"
      ]
    },
    {
      "cell_type": "markdown",
      "metadata": {
        "colab_type": "text",
        "id": "p4QjdHVjKYum"
      },
      "source": [
        "#### **Interpretation of Statistical Results**"
      ]
    },
    {
      "cell_type": "markdown",
      "metadata": {
        "colab_type": "text",
        "id": "mSoOBIqfLbDs"
      },
      "source": [
        "##### **Box Plots**\n",
        "\n",
        "###### **pIC50 values**\n",
        "\n",
        "Taking a look at pIC50 values, the **actives** and **inactives** displayed ***statistically significant difference***, which is to be expected since threshold values (``IC50 < 1,000 nM = Actives while IC50 > 10,000 nM = Inactives``, corresponding to ``pIC50 > 6 = Actives and pIC50 < 5 = Inactives``) were used to define actives and inactives.\n",
        "\n",
        "###### **Lipinski's descriptors**\n",
        "\n",
        "All of the 4 Lipinski's descriptors exhibited ***statistically significant difference*** between the **actives** and **inactives**."
      ]
    },
    {
      "cell_type": "markdown",
      "metadata": {
        "colab_type": "text",
        "id": "U-rK8l0wWnKK"
      },
      "source": [
        "## **Zip files**"
      ]
    },
    {
      "cell_type": "code",
      "execution_count": 48,
      "metadata": {
        "colab": {
          "base_uri": "https://localhost:8080/",
          "height": 272
        },
        "colab_type": "code",
        "id": "GW1ZSsfJWqbM",
        "outputId": "cee2f037-c743-4059-9822-c87eba3f0c51"
      },
      "outputs": [
        {
          "name": "stdout",
          "output_type": "stream",
          "text": [
            "  adding: mannwhitneyu_NumHAcceptors.csv (deflated 12%)\n",
            "  adding: MgluR5_bioactivity_data_raw.csv (deflated 93%)\n",
            "  adding: plot_bioactivity_class.pdf (deflated 38%)\n",
            "  adding: MgluR5_05_bioactivity_data_2class_pIC50.csv (deflated 77%)\n",
            "  adding: mannwhitneyu_MW.csv (deflated 8%)\n",
            "  adding: MgluR5_bioactivity_data_preprocessed.csv (deflated 82%)\n",
            "  adding: mannwhitneyu_pIC50.csv (deflated 11%)\n",
            "  adding: mannwhitneyu_NumHDonors.csv (deflated 10%)\n",
            "  adding: plot_LogP.pdf (deflated 37%)\n",
            "  adding: plot_NumHAcceptors.pdf (deflated 39%)\n",
            "  adding: mannwhitneyu_LogP.csv (deflated 8%)\n",
            "  adding: plot_NumHDonors.pdf (deflated 39%)\n",
            "  adding: MgluR5_02_bioactivity_data_preprocessed.csv (deflated 81%)\n",
            "  adding: plot_ic50.pdf (deflated 38%)\n",
            "  adding: plot_MW_vs_LogP.pdf (deflated 3%)\n",
            "  adding: MgluR5_04_bioactivity_data_3class_pIC50.csv (deflated 77%)\n",
            "  adding: plot_MW.pdf (deflated 37%)\n",
            "  adding: MgluR5_03_bioactivity_data_curated.csv (deflated 82%)\n",
            "  adding: MgluR5_01_bioactivity_data_raw.csv (deflated 93%)\n"
          ]
        }
      ],
      "source": [
        "! zip -r results.zip . -i *.csv *.pdf"
      ]
    },
    {
      "cell_type": "code",
      "execution_count": null,
      "metadata": {
        "colab": {},
        "colab_type": "code",
        "id": "LMWOG2UIXEg-"
      },
      "outputs": [],
      "source": []
    }
  ],
  "metadata": {
    "colab": {
      "collapsed_sections": [],
      "name": "CDD-ML-Part-2-Exploratory-Data-Analysis-Acetylcholinesterase.ipynb",
      "provenance": []
    },
    "kernelspec": {
      "display_name": "Python 3",
      "name": "python3"
    },
    "language_info": {
      "codemirror_mode": {
        "name": "ipython",
        "version": 3
      },
      "file_extension": ".py",
      "mimetype": "text/x-python",
      "name": "python",
      "nbconvert_exporter": "python",
      "pygments_lexer": "ipython3",
      "version": "3.10.13"
    }
  },
  "nbformat": 4,
  "nbformat_minor": 0
}
